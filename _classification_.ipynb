{
 "cells": [
  {
   "cell_type": "markdown",
   "metadata": {},
   "source": [
    "# Classification"
   ]
  },
  {
   "cell_type": "code",
   "execution_count": 1,
   "metadata": {
    "collapsed": true
   },
   "outputs": [],
   "source": [
    "import pandas as pd\n",
    "import numpy as np\n",
    "from sklearn import metrics\n",
    "import graphviz #dontesi fa plottolasara\n",
    "from sklearn import tree\n",
    "from sklearn.model_selection import train_test_split\n",
    "\n",
    "import warnings\n",
    "\n",
    "%matplotlib inline"
   ]
  },
  {
   "cell_type": "code",
   "execution_count": 2,
   "metadata": {
    "collapsed": true
   },
   "outputs": [],
   "source": [
    "warnings.filterwarnings(action='ignore')"
   ]
  },
  {
   "cell_type": "code",
   "execution_count": 3,
   "metadata": {
    "collapsed": true
   },
   "outputs": [],
   "source": [
    "df = pd.read_csv('XXXXX')"
   ]
  },
  {
   "cell_type": "code",
   "execution_count": 4,
   "metadata": {},
   "outputs": [
    {
     "data": {
      "text/plain": [
       "(50000, 21)"
      ]
     },
     "execution_count": 4,
     "metadata": {},
     "output_type": "execute_result"
    }
   ],
   "source": [
    "df.shape"
   ]
  },
  {
   "cell_type": "markdown",
   "metadata": {},
   "source": [
    "# Baseline model and metrics"
   ]
  },
  {
   "cell_type": "code",
   "execution_count": 5,
   "metadata": {
    "collapsed": true
   },
   "outputs": [],
   "source": [
    "from sklearn.dummy import DummyClassifier"
   ]
  },
  {
   "cell_type": "code",
   "execution_count": 6,
   "metadata": {
    "collapsed": true
   },
   "outputs": [],
   "source": [
    "train, test = train_test_split(df, train_size=0.75, test_size=0.25, random_state=432, \n",
    "                               stratify=df.TARGET_LABEL_BAD)"
   ]
  },
  {
   "cell_type": "code",
   "execution_count": 7,
   "metadata": {
    "collapsed": true
   },
   "outputs": [],
   "source": [
    "features = ['MONTHS_IN_RESIDENCE', 'Sex', 'MONTHS_IN_THE_JOB', 'PERSONAL_NET_INCOME'] #random valtozok a dummy classifiernek\n",
    "\n",
    "X_train = train.loc[:, features] #X features\n",
    "y_train = train.TARGET_LABEL_BAD #y a pred\n",
    "\n",
    "X_test = test.loc[:, features]\n",
    "y_test = test.TARGET_LABEL_BAD"
   ]
  },
  {
   "cell_type": "code",
   "execution_count": 8,
   "metadata": {},
   "outputs": [
    {
     "name": "stdout",
     "output_type": "stream",
     "text": [
      "stratified\n",
      "[[8044 1988]\n",
      " [1969  499]]\n",
      "0.1990 0.6834 0.200643 0.2022 0.201413 0.502011\n",
      "most_frequent\n",
      "[[10032     0]\n",
      " [ 2468     0]]\n",
      "0.0000 0.8026 0.000000 0.0000 0.000000 0.500000\n",
      "uniform\n",
      "[[5088 4944]\n",
      " [1214 1254]]\n",
      "0.4958 0.5074 0.202323 0.5081 0.289407 0.500000\n"
     ]
    }
   ],
   "source": [
    "for strat in [\"stratified\", \"most_frequent\", \"uniform\"]: #stratified a cv eloszlasanak megfelelo valseggel fog 0-1-et valasztani\n",
    "    cl = DummyClassifier(strategy=strat, random_state=1123)\n",
    "    cl.fit(X_train, y_train)\n",
    "    y_pred = pd.Series(cl.predict(X_test), index=y_test.index)\n",
    "    y_pred_proba = pd.Series(cl.predict_proba(X_test)[:, 1], index=y_test.index) #egyes valtozohoz tartozo konfidenciaertek lesz\n",
    "    print(strat)\n",
    "    cf_mat = metrics.confusion_matrix(y_test, y_pred)\n",
    "    print(cf_mat)\n",
    "    print(\n",
    "        \"{:.4f} {:.4f} {:4f} {:.4f} {:4f} {:4f}\".format(\n",
    "            y_pred.mean(), \n",
    "            metrics.accuracy_score(y_test, y_pred),\n",
    "            metrics.precision_score(y_test, y_pred),\n",
    "            metrics.recall_score(y_test, y_pred),\n",
    "            metrics.f1_score(y_test, y_pred), #ez az elso negy josagmetrika 0-1 erteket vehet fel\n",
    "            metrics.roc_auc_score(y_test, y_pred_proba) #0.5-1-et vehet fel\n",
    "        )\n",
    "    )"
   ]
  },
  {
   "cell_type": "code",
   "execution_count": 12,
   "metadata": {},
   "outputs": [
    {
     "data": {
      "text/html": [
       "<div>\n",
       "<style>\n",
       "    .dataframe thead tr:only-child th {\n",
       "        text-align: right;\n",
       "    }\n",
       "\n",
       "    .dataframe thead th {\n",
       "        text-align: left;\n",
       "    }\n",
       "\n",
       "    .dataframe tbody tr th {\n",
       "        vertical-align: top;\n",
       "    }\n",
       "</style>\n",
       "<table border=\"1\" class=\"dataframe\">\n",
       "  <thead>\n",
       "    <tr style=\"text-align: right;\">\n",
       "      <th></th>\n",
       "      <th>0</th>\n",
       "      <th>1</th>\n",
       "    </tr>\n",
       "  </thead>\n",
       "  <tbody>\n",
       "    <tr>\n",
       "      <th>0</th>\n",
       "      <td>5088</td>\n",
       "      <td>4944</td>\n",
       "    </tr>\n",
       "    <tr>\n",
       "      <th>1</th>\n",
       "      <td>1214</td>\n",
       "      <td>1254</td>\n",
       "    </tr>\n",
       "  </tbody>\n",
       "</table>\n",
       "</div>"
      ],
      "text/plain": [
       "      0     1\n",
       "0  5088  4944\n",
       "1  1214  1254"
      ]
     },
     "execution_count": 12,
     "metadata": {},
     "output_type": "execute_result"
    }
   ],
   "source": [
    "pd.DataFrame(cf_mat)"
   ]
  },
  {
   "cell_type": "code",
   "execution_count": 13,
   "metadata": {},
   "outputs": [
    {
     "name": "stdout",
     "output_type": "stream",
     "text": [
      "True positives 1254\n",
      "True negatives 5088\n",
      "False positives 4944\n",
      "False negatives 1214\n"
     ]
    }
   ],
   "source": [
    "tn = cf_mat[0,0]\n",
    "tp = cf_mat[1,1]\n",
    "fn = cf_mat[1,0]\n",
    "fp = cf_mat[0,1]\n",
    "\n",
    "print('True positives', tp)\n",
    "print('True negatives', tn)\n",
    "print('False positives', fp)\n",
    "print('False negatives',fn)"
   ]
  },
  {
   "cell_type": "code",
   "execution_count": 14,
   "metadata": {},
   "outputs": [
    {
     "name": "stdout",
     "output_type": "stream",
     "text": [
      "Precision: 0.202323330106\n",
      "Recall: 0.508103727715\n",
      "F1 score: 0.289406877452\n"
     ]
    }
   ],
   "source": [
    "precision = tp / (tp + fp) # best: 1 worst: 0\n",
    "recall = tp / (tp + fn)  # best: 1 worst: 0\n",
    "f1_score = 2 * (precision * recall) / (precision + recall) # best: 1 worst: 0\n",
    "print(\"Precision:\", precision)\n",
    "print(\"Recall:\", recall)\n",
    "print(\"F1 score:\", f1_score)"
   ]
  },
  {
   "cell_type": "markdown",
   "metadata": {},
   "source": [
    "# Decision Tree\n",
    "\n",
    "The goal is to create a model that predicts the value of a target variable by learning simple decision rules inferred from the data features.\n",
    "\n",
    "- http://scikit-learn.org/stable/modules/generated/sklearn.tree.DecisionTreeClassifier.html\n",
    "- http://scikit-learn.org/stable/modules/tree.html#tree"
   ]
  },
  {
   "cell_type": "code",
   "execution_count": 15,
   "metadata": {
    "collapsed": true
   },
   "outputs": [],
   "source": [
    "from sklearn.tree import DecisionTreeClassifier"
   ]
  },
  {
   "cell_type": "code",
   "execution_count": 16,
   "metadata": {
    "collapsed": true
   },
   "outputs": [],
   "source": [
    "? DecisionTreeClassifier"
   ]
  },
  {
   "cell_type": "code",
   "execution_count": 17,
   "metadata": {
    "collapsed": true
   },
   "outputs": [],
   "source": [
    "train, test = train_test_split(df, train_size=0.75, test_size=0.25, random_state=432, \n",
    "                               stratify=df.TARGET_LABEL_BAD)"
   ]
  },
  {
   "cell_type": "code",
   "execution_count": 18,
   "metadata": {
    "collapsed": true
   },
   "outputs": [],
   "source": [
    "features = ['MONTHS_IN_RESIDENCE', 'Sex', 'MONTHS_IN_THE_JOB', 'PERSONAL_NET_INCOME']\n",
    "\n",
    "X_train = train.loc[:, features]\n",
    "y_train = train.TARGET_LABEL_BAD\n",
    "\n",
    "X_test = test.loc[:, features]\n",
    "y_test = test.TARGET_LABEL_BAD"
   ]
  },
  {
   "cell_type": "code",
   "execution_count": 246,
   "metadata": {
    "collapsed": true
   },
   "outputs": [],
   "source": [
    "? DecisionTreeClassifier"
   ]
  },
  {
   "cell_type": "code",
   "execution_count": 19,
   "metadata": {
    "collapsed": true
   },
   "outputs": [],
   "source": [
    "dt = DecisionTreeClassifier(max_depth=3, \n",
    "                            class_weight=\"balanced\", #0-1 eloszlasa a 0 fele nehez, ez az eloszlasbeli kulonbseget probalja kiegyensulyozni sulyozassal\n",
    "                            criterion='entropy') #ez alapjan a josagkriterium alapjan probal vagni (entropiat akar csokkenteni)\n",
    "dt = dt.fit(X_train, y_train)\n",
    "y_pred = pd.Series(dt.predict(X_test), index=y_test.index)\n",
    "y_pred_proba = pd.Series(dt.predict_proba(X_test)[:, 1], index=y_test.index)\n",
    "\n",
    "#a class weighttel mokoltunk oran"
   ]
  },
  {
   "cell_type": "code",
   "execution_count": 20,
   "metadata": {},
   "outputs": [
    {
     "name": "stdout",
     "output_type": "stream",
     "text": [
      "(37500, 4), (12500, 4)\n"
     ]
    }
   ],
   "source": [
    "print('{0}, {1}'.format(X_train.shape,X_test.shape))"
   ]
  },
  {
   "cell_type": "code",
   "execution_count": 21,
   "metadata": {
    "collapsed": true
   },
   "outputs": [],
   "source": [
    "#lehet-e concatenalni:\n",
    "q = pd.concat((y_pred_proba,y_pred),axis=1)"
   ]
  },
  {
   "cell_type": "code",
   "execution_count": 22,
   "metadata": {
    "collapsed": true
   },
   "outputs": [],
   "source": [
    "q.columns = ['predicted_confidence','predicted_target']"
   ]
  },
  {
   "cell_type": "code",
   "execution_count": 23,
   "metadata": {},
   "outputs": [
    {
     "data": {
      "text/html": [
       "<div>\n",
       "<style>\n",
       "    .dataframe thead tr:only-child th {\n",
       "        text-align: right;\n",
       "    }\n",
       "\n",
       "    .dataframe thead th {\n",
       "        text-align: left;\n",
       "    }\n",
       "\n",
       "    .dataframe tbody tr th {\n",
       "        vertical-align: top;\n",
       "    }\n",
       "</style>\n",
       "<table border=\"1\" class=\"dataframe\">\n",
       "  <thead>\n",
       "    <tr style=\"text-align: right;\">\n",
       "      <th></th>\n",
       "      <th>predicted_confidence</th>\n",
       "      <th>predicted_target</th>\n",
       "    </tr>\n",
       "  </thead>\n",
       "  <tbody>\n",
       "    <tr>\n",
       "      <th>13574</th>\n",
       "      <td>0.400057</td>\n",
       "      <td>0</td>\n",
       "    </tr>\n",
       "    <tr>\n",
       "      <th>12976</th>\n",
       "      <td>0.458262</td>\n",
       "      <td>0</td>\n",
       "    </tr>\n",
       "    <tr>\n",
       "      <th>24391</th>\n",
       "      <td>0.369350</td>\n",
       "      <td>0</td>\n",
       "    </tr>\n",
       "    <tr>\n",
       "      <th>45074</th>\n",
       "      <td>0.618559</td>\n",
       "      <td>1</td>\n",
       "    </tr>\n",
       "    <tr>\n",
       "      <th>23401</th>\n",
       "      <td>0.522431</td>\n",
       "      <td>1</td>\n",
       "    </tr>\n",
       "  </tbody>\n",
       "</table>\n",
       "</div>"
      ],
      "text/plain": [
       "       predicted_confidence  predicted_target\n",
       "13574              0.400057                 0\n",
       "12976              0.458262                 0\n",
       "24391              0.369350                 0\n",
       "45074              0.618559                 1\n",
       "23401              0.522431                 1"
      ]
     },
     "execution_count": 23,
     "metadata": {},
     "output_type": "execute_result"
    }
   ],
   "source": [
    "q.head()"
   ]
  },
  {
   "cell_type": "code",
   "execution_count": 24,
   "metadata": {},
   "outputs": [
    {
     "data": {
      "text/plain": [
       "1    7848\n",
       "0    4652\n",
       "dtype: int64"
      ]
     },
     "execution_count": 24,
     "metadata": {},
     "output_type": "execute_result"
    }
   ],
   "source": [
    "y_pred.value_counts()"
   ]
  },
  {
   "cell_type": "code",
   "execution_count": 25,
   "metadata": {},
   "outputs": [
    {
     "data": {
      "text/plain": [
       "0.62783999999999995"
      ]
     },
     "execution_count": 25,
     "metadata": {},
     "output_type": "execute_result"
    }
   ],
   "source": [
    "y_pred.mean()"
   ]
  },
  {
   "cell_type": "code",
   "execution_count": 26,
   "metadata": {
    "collapsed": true
   },
   "outputs": [],
   "source": [
    "def score_classifier(y_test, y_pred, y_pred_proba):\n",
    "    print(\n",
    "        #\"{:13s} {:.4f} {:.4f} {:4f} {:.4f} {:4f} {}\".format(\n",
    "         #   'DecisionTree',\n",
    "        \"{:.4f} {:.4f} {:4f} {:.4f} {:.4f} {:4f} {}\".format(\n",
    "            y_pred.mean(), \n",
    "            metrics.accuracy_score(y_test, y_pred),\n",
    "            metrics.precision_score(y_test, y_pred),\n",
    "            metrics.recall_score(y_test, y_pred),\n",
    "            metrics.f1_score(y_test,y_pred),\n",
    "            metrics.roc_auc_score(y_test, y_pred_proba),\n",
    "            y_pred.unique()\n",
    "        )\n",
    "    )    "
   ]
  },
  {
   "cell_type": "code",
   "execution_count": 27,
   "metadata": {},
   "outputs": [
    {
     "data": {
      "text/plain": [
       "array([[3992, 6040],\n",
       "       [ 660, 1808]])"
      ]
     },
     "execution_count": 27,
     "metadata": {},
     "output_type": "execute_result"
    }
   ],
   "source": [
    "metrics.confusion_matrix(y_test, y_pred)"
   ]
  },
  {
   "cell_type": "code",
   "execution_count": 28,
   "metadata": {},
   "outputs": [
    {
     "name": "stdout",
     "output_type": "stream",
     "text": [
      "0.6278 0.4640 0.230377 0.7326 0.3505 0.589234 [0 1]\n"
     ]
    }
   ],
   "source": [
    "score_classifier(y_test, y_pred, y_pred_proba)"
   ]
  },
  {
   "cell_type": "code",
   "execution_count": 29,
   "metadata": {},
   "outputs": [
    {
     "data": {
      "image/svg+xml": [
       "<?xml version=\"1.0\" encoding=\"UTF-8\" standalone=\"no\"?>\n",
       "<!DOCTYPE svg PUBLIC \"-//W3C//DTD SVG 1.1//EN\"\n",
       " \"http://www.w3.org/Graphics/SVG/1.1/DTD/svg11.dtd\">\n",
       "<!-- Generated by graphviz version 2.38.0 (20140413.2041)\n",
       " -->\n",
       "<!-- Title: Tree Pages: 1 -->\n",
       "<svg width=\"1494pt\" height=\"441pt\"\n",
       " viewBox=\"0.00 0.00 1493.50 440.50\" xmlns=\"http://www.w3.org/2000/svg\" xmlns:xlink=\"http://www.w3.org/1999/xlink\">\n",
       "<g id=\"graph0\" class=\"graph\" transform=\"scale(1 1) rotate(0) translate(4 436.5)\">\n",
       "<title>Tree</title>\n",
       "<polygon fill=\"white\" stroke=\"none\" points=\"-4,4 -4,-436.5 1489.5,-436.5 1489.5,4 -4,4\"/>\n",
       "<!-- 0 -->\n",
       "<g id=\"node1\" class=\"node\"><title>0</title>\n",
       "<path fill=\"none\" stroke=\"black\" d=\"M842.5,-432.5C842.5,-432.5 658.5,-432.5 658.5,-432.5 652.5,-432.5 646.5,-426.5 646.5,-420.5 646.5,-420.5 646.5,-361.5 646.5,-361.5 646.5,-355.5 652.5,-349.5 658.5,-349.5 658.5,-349.5 842.5,-349.5 842.5,-349.5 848.5,-349.5 854.5,-355.5 854.5,-361.5 854.5,-361.5 854.5,-420.5 854.5,-420.5 854.5,-426.5 848.5,-432.5 842.5,-432.5\"/>\n",
       "<text text-anchor=\"start\" x=\"654.5\" y=\"-417.3\" font-family=\"Helvetica,sans-Serif\" font-size=\"14.00\">MONTHS_IN_THE_JOB ≤ 54.0</text>\n",
       "<text text-anchor=\"start\" x=\"710.5\" y=\"-402.3\" font-family=\"Helvetica,sans-Serif\" font-size=\"14.00\">entropy = 1.0</text>\n",
       "<text text-anchor=\"start\" x=\"698\" y=\"-387.3\" font-family=\"Helvetica,sans-Serif\" font-size=\"14.00\">samples = 37500</text>\n",
       "<text text-anchor=\"start\" x=\"670\" y=\"-372.3\" font-family=\"Helvetica,sans-Serif\" font-size=\"14.00\">value = [18750.0, 18750.0]</text>\n",
       "<text text-anchor=\"start\" x=\"715.5\" y=\"-357.3\" font-family=\"Helvetica,sans-Serif\" font-size=\"14.00\">class = bad</text>\n",
       "</g>\n",
       "<!-- 1 -->\n",
       "<g id=\"node2\" class=\"node\"><title>1</title>\n",
       "<path fill=\"#399de5\" fill-opacity=\"0.145098\" stroke=\"black\" d=\"M693.5,-313.5C693.5,-313.5 525.5,-313.5 525.5,-313.5 519.5,-313.5 513.5,-307.5 513.5,-301.5 513.5,-301.5 513.5,-242.5 513.5,-242.5 513.5,-236.5 519.5,-230.5 525.5,-230.5 525.5,-230.5 693.5,-230.5 693.5,-230.5 699.5,-230.5 705.5,-236.5 705.5,-242.5 705.5,-242.5 705.5,-301.5 705.5,-301.5 705.5,-307.5 699.5,-313.5 693.5,-313.5\"/>\n",
       "<text text-anchor=\"start\" x=\"581\" y=\"-298.3\" font-family=\"Helvetica,sans-Serif\" font-size=\"14.00\">Sex ≤ 0.5</text>\n",
       "<text text-anchor=\"start\" x=\"569.5\" y=\"-283.3\" font-family=\"Helvetica,sans-Serif\" font-size=\"14.00\">entropy = 1.0</text>\n",
       "<text text-anchor=\"start\" x=\"557\" y=\"-268.3\" font-family=\"Helvetica,sans-Serif\" font-size=\"14.00\">samples = 26920</text>\n",
       "<text text-anchor=\"start\" x=\"521.5\" y=\"-253.3\" font-family=\"Helvetica,sans-Serif\" font-size=\"14.00\">value = [13020.45, 15246.08]</text>\n",
       "<text text-anchor=\"start\" x=\"574.5\" y=\"-238.3\" font-family=\"Helvetica,sans-Serif\" font-size=\"14.00\">class = bad</text>\n",
       "</g>\n",
       "<!-- 0&#45;&gt;1 -->\n",
       "<g id=\"edge1\" class=\"edge\"><title>0&#45;&gt;1</title>\n",
       "<path fill=\"none\" stroke=\"black\" d=\"M701.581,-349.407C690.207,-339.969 678.003,-329.843 666.321,-320.149\"/>\n",
       "<polygon fill=\"black\" stroke=\"black\" points=\"668.263,-317.213 658.333,-313.521 663.793,-322.6 668.263,-317.213\"/>\n",
       "<text text-anchor=\"middle\" x=\"660.648\" y=\"-334.713\" font-family=\"Helvetica,sans-Serif\" font-size=\"14.00\">True</text>\n",
       "</g>\n",
       "<!-- 8 -->\n",
       "<g id=\"node9\" class=\"node\"><title>8</title>\n",
       "<path fill=\"#e58139\" fill-opacity=\"0.388235\" stroke=\"black\" d=\"M1001.5,-313.5C1001.5,-313.5 781.5,-313.5 781.5,-313.5 775.5,-313.5 769.5,-307.5 769.5,-301.5 769.5,-301.5 769.5,-242.5 769.5,-242.5 769.5,-236.5 775.5,-230.5 781.5,-230.5 781.5,-230.5 1001.5,-230.5 1001.5,-230.5 1007.5,-230.5 1013.5,-236.5 1013.5,-242.5 1013.5,-242.5 1013.5,-301.5 1013.5,-301.5 1013.5,-307.5 1007.5,-313.5 1001.5,-313.5\"/>\n",
       "<text text-anchor=\"start\" x=\"777.5\" y=\"-298.3\" font-family=\"Helvetica,sans-Serif\" font-size=\"14.00\">PERSONAL_NET_INCOME ≤ 1371.5</text>\n",
       "<text text-anchor=\"start\" x=\"847.5\" y=\"-283.3\" font-family=\"Helvetica,sans-Serif\" font-size=\"14.00\">entropy = 0.96</text>\n",
       "<text text-anchor=\"start\" x=\"839\" y=\"-268.3\" font-family=\"Helvetica,sans-Serif\" font-size=\"14.00\">samples = 10580</text>\n",
       "<text text-anchor=\"start\" x=\"811\" y=\"-253.3\" font-family=\"Helvetica,sans-Serif\" font-size=\"14.00\">value = [5729.55, 3503.92]</text>\n",
       "<text text-anchor=\"start\" x=\"853\" y=\"-238.3\" font-family=\"Helvetica,sans-Serif\" font-size=\"14.00\">class = good</text>\n",
       "</g>\n",
       "<!-- 0&#45;&gt;8 -->\n",
       "<g id=\"edge8\" class=\"edge\"><title>0&#45;&gt;8</title>\n",
       "<path fill=\"none\" stroke=\"black\" d=\"M799.419,-349.407C810.793,-339.969 822.997,-329.843 834.679,-320.149\"/>\n",
       "<polygon fill=\"black\" stroke=\"black\" points=\"837.207,-322.6 842.667,-313.521 832.737,-317.213 837.207,-322.6\"/>\n",
       "<text text-anchor=\"middle\" x=\"840.352\" y=\"-334.713\" font-family=\"Helvetica,sans-Serif\" font-size=\"14.00\">False</text>\n",
       "</g>\n",
       "<!-- 2 -->\n",
       "<g id=\"node3\" class=\"node\"><title>2</title>\n",
       "<path fill=\"#399de5\" fill-opacity=\"0.329412\" stroke=\"black\" d=\"M368.5,-194.5C368.5,-194.5 184.5,-194.5 184.5,-194.5 178.5,-194.5 172.5,-188.5 172.5,-182.5 172.5,-182.5 172.5,-123.5 172.5,-123.5 172.5,-117.5 178.5,-111.5 184.5,-111.5 184.5,-111.5 368.5,-111.5 368.5,-111.5 374.5,-111.5 380.5,-117.5 380.5,-123.5 380.5,-123.5 380.5,-182.5 380.5,-182.5 380.5,-188.5 374.5,-194.5 368.5,-194.5\"/>\n",
       "<text text-anchor=\"start\" x=\"180.5\" y=\"-179.3\" font-family=\"Helvetica,sans-Serif\" font-size=\"14.00\">MONTHS_IN_THE_JOB ≤ 30.0</text>\n",
       "<text text-anchor=\"start\" x=\"232.5\" y=\"-164.3\" font-family=\"Helvetica,sans-Serif\" font-size=\"14.00\">entropy = 0.97</text>\n",
       "<text text-anchor=\"start\" x=\"228\" y=\"-149.3\" font-family=\"Helvetica,sans-Serif\" font-size=\"14.00\">samples = 8131</text>\n",
       "<text text-anchor=\"start\" x=\"196\" y=\"-134.3\" font-family=\"Helvetica,sans-Serif\" font-size=\"14.00\">value = [3706.51, 5524.24]</text>\n",
       "<text text-anchor=\"start\" x=\"241.5\" y=\"-119.3\" font-family=\"Helvetica,sans-Serif\" font-size=\"14.00\">class = bad</text>\n",
       "</g>\n",
       "<!-- 1&#45;&gt;2 -->\n",
       "<g id=\"edge2\" class=\"edge\"><title>1&#45;&gt;2</title>\n",
       "<path fill=\"none\" stroke=\"black\" d=\"M513.183,-237.159C474.772,-223.663 430.261,-208.024 390.274,-193.975\"/>\n",
       "<polygon fill=\"black\" stroke=\"black\" points=\"391.345,-190.641 380.75,-190.628 389.024,-197.245 391.345,-190.641\"/>\n",
       "</g>\n",
       "<!-- 5 -->\n",
       "<g id=\"node6\" class=\"node\"><title>5</title>\n",
       "<path fill=\"#399de5\" fill-opacity=\"0.043137\" stroke=\"black\" d=\"M715.5,-194.5C715.5,-194.5 503.5,-194.5 503.5,-194.5 497.5,-194.5 491.5,-188.5 491.5,-182.5 491.5,-182.5 491.5,-123.5 491.5,-123.5 491.5,-117.5 497.5,-111.5 503.5,-111.5 503.5,-111.5 715.5,-111.5 715.5,-111.5 721.5,-111.5 727.5,-117.5 727.5,-123.5 727.5,-123.5 727.5,-182.5 727.5,-182.5 727.5,-188.5 721.5,-194.5 715.5,-194.5\"/>\n",
       "<text text-anchor=\"start\" x=\"499.5\" y=\"-179.3\" font-family=\"Helvetica,sans-Serif\" font-size=\"14.00\">PERSONAL_NET_INCOME ≤ 912.5</text>\n",
       "<text text-anchor=\"start\" x=\"569.5\" y=\"-164.3\" font-family=\"Helvetica,sans-Serif\" font-size=\"14.00\">entropy = 1.0</text>\n",
       "<text text-anchor=\"start\" x=\"557\" y=\"-149.3\" font-family=\"Helvetica,sans-Serif\" font-size=\"14.00\">samples = 18789</text>\n",
       "<text text-anchor=\"start\" x=\"529\" y=\"-134.3\" font-family=\"Helvetica,sans-Serif\" font-size=\"14.00\">value = [9313.94, 9721.85]</text>\n",
       "<text text-anchor=\"start\" x=\"574.5\" y=\"-119.3\" font-family=\"Helvetica,sans-Serif\" font-size=\"14.00\">class = bad</text>\n",
       "</g>\n",
       "<!-- 1&#45;&gt;5 -->\n",
       "<g id=\"edge5\" class=\"edge\"><title>1&#45;&gt;5</title>\n",
       "<path fill=\"none\" stroke=\"black\" d=\"M609.5,-230.407C609.5,-222.149 609.5,-213.364 609.5,-204.802\"/>\n",
       "<polygon fill=\"black\" stroke=\"black\" points=\"613,-204.521 609.5,-194.521 606,-204.521 613,-204.521\"/>\n",
       "</g>\n",
       "<!-- 3 -->\n",
       "<g id=\"node4\" class=\"node\"><title>3</title>\n",
       "<path fill=\"#399de5\" fill-opacity=\"0.384314\" stroke=\"black\" d=\"M165,-68C165,-68 12,-68 12,-68 6,-68 1.42109e-14,-62 1.42109e-14,-56 1.42109e-14,-56 1.42109e-14,-12 1.42109e-14,-12 1.42109e-14,-6 6,-0 12,-0 12,-0 165,-0 165,-0 171,-0 177,-6 177,-12 177,-12 177,-56 177,-56 177,-62 171,-68 165,-68\"/>\n",
       "<text text-anchor=\"start\" x=\"44.5\" y=\"-52.8\" font-family=\"Helvetica,sans-Serif\" font-size=\"14.00\">entropy = 0.96</text>\n",
       "<text text-anchor=\"start\" x=\"40\" y=\"-37.8\" font-family=\"Helvetica,sans-Serif\" font-size=\"14.00\">samples = 6675</text>\n",
       "<text text-anchor=\"start\" x=\"8\" y=\"-22.8\" font-family=\"Helvetica,sans-Serif\" font-size=\"14.00\">value = [2972.56, 4820.42]</text>\n",
       "<text text-anchor=\"start\" x=\"53.5\" y=\"-7.8\" font-family=\"Helvetica,sans-Serif\" font-size=\"14.00\">class = bad</text>\n",
       "</g>\n",
       "<!-- 2&#45;&gt;3 -->\n",
       "<g id=\"edge3\" class=\"edge\"><title>2&#45;&gt;3</title>\n",
       "<path fill=\"none\" stroke=\"black\" d=\"M211.274,-111.407C191.505,-99.104 169.856,-85.6309 150.317,-73.471\"/>\n",
       "<polygon fill=\"black\" stroke=\"black\" points=\"152.133,-70.4792 141.794,-68.1669 148.435,-76.4223 152.133,-70.4792\"/>\n",
       "</g>\n",
       "<!-- 4 -->\n",
       "<g id=\"node5\" class=\"node\"><title>4</title>\n",
       "<path fill=\"#e58139\" fill-opacity=\"0.039216\" stroke=\"black\" d=\"M345.5,-68C345.5,-68 207.5,-68 207.5,-68 201.5,-68 195.5,-62 195.5,-56 195.5,-56 195.5,-12 195.5,-12 195.5,-6 201.5,-0 207.5,-0 207.5,-0 345.5,-0 345.5,-0 351.5,-0 357.5,-6 357.5,-12 357.5,-12 357.5,-56 357.5,-56 357.5,-62 351.5,-68 345.5,-68\"/>\n",
       "<text text-anchor=\"start\" x=\"236.5\" y=\"-52.8\" font-family=\"Helvetica,sans-Serif\" font-size=\"14.00\">entropy = 1.0</text>\n",
       "<text text-anchor=\"start\" x=\"228\" y=\"-37.8\" font-family=\"Helvetica,sans-Serif\" font-size=\"14.00\">samples = 1456</text>\n",
       "<text text-anchor=\"start\" x=\"203.5\" y=\"-22.8\" font-family=\"Helvetica,sans-Serif\" font-size=\"14.00\">value = [733.95, 703.82]</text>\n",
       "<text text-anchor=\"start\" x=\"238\" y=\"-7.8\" font-family=\"Helvetica,sans-Serif\" font-size=\"14.00\">class = good</text>\n",
       "</g>\n",
       "<!-- 2&#45;&gt;4 -->\n",
       "<g id=\"edge4\" class=\"edge\"><title>2&#45;&gt;4</title>\n",
       "<path fill=\"none\" stroke=\"black\" d=\"M276.5,-111.407C276.5,-100.704 276.5,-89.1154 276.5,-78.2762\"/>\n",
       "<polygon fill=\"black\" stroke=\"black\" points=\"280,-78.1669 276.5,-68.1669 273,-78.167 280,-78.1669\"/>\n",
       "</g>\n",
       "<!-- 6 -->\n",
       "<g id=\"node7\" class=\"node\"><title>6</title>\n",
       "<path fill=\"#399de5\" fill-opacity=\"0.086275\" stroke=\"black\" d=\"M541,-68C541,-68 388,-68 388,-68 382,-68 376,-62 376,-56 376,-56 376,-12 376,-12 376,-6 382,-0 388,-0 388,-0 541,-0 541,-0 547,-0 553,-6 553,-12 553,-12 553,-56 553,-56 553,-62 547,-68 541,-68\"/>\n",
       "<text text-anchor=\"start\" x=\"424.5\" y=\"-52.8\" font-family=\"Helvetica,sans-Serif\" font-size=\"14.00\">entropy = 1.0</text>\n",
       "<text text-anchor=\"start\" x=\"412\" y=\"-37.8\" font-family=\"Helvetica,sans-Serif\" font-size=\"14.00\">samples = 16746</text>\n",
       "<text text-anchor=\"start\" x=\"384\" y=\"-22.8\" font-family=\"Helvetica,sans-Serif\" font-size=\"14.00\">value = [8220.49, 8992.71]</text>\n",
       "<text text-anchor=\"start\" x=\"429.5\" y=\"-7.8\" font-family=\"Helvetica,sans-Serif\" font-size=\"14.00\">class = bad</text>\n",
       "</g>\n",
       "<!-- 5&#45;&gt;6 -->\n",
       "<g id=\"edge6\" class=\"edge\"><title>5&#45;&gt;6</title>\n",
       "<path fill=\"none\" stroke=\"black\" d=\"M559.193,-111.407C544.424,-99.4902 528.295,-86.4756 513.602,-74.6199\"/>\n",
       "<polygon fill=\"black\" stroke=\"black\" points=\"515.585,-71.7227 505.604,-68.1669 511.189,-77.1705 515.585,-71.7227\"/>\n",
       "</g>\n",
       "<!-- 7 -->\n",
       "<g id=\"node8\" class=\"node\"><title>7</title>\n",
       "<path fill=\"#e58139\" fill-opacity=\"0.333333\" stroke=\"black\" d=\"M729.5,-68C729.5,-68 583.5,-68 583.5,-68 577.5,-68 571.5,-62 571.5,-56 571.5,-56 571.5,-12 571.5,-12 571.5,-6 577.5,-0 583.5,-0 583.5,-0 729.5,-0 729.5,-0 735.5,-0 741.5,-6 741.5,-12 741.5,-12 741.5,-56 741.5,-56 741.5,-62 735.5,-68 729.5,-68\"/>\n",
       "<text text-anchor=\"start\" x=\"612.5\" y=\"-52.8\" font-family=\"Helvetica,sans-Serif\" font-size=\"14.00\">entropy = 0.97</text>\n",
       "<text text-anchor=\"start\" x=\"608\" y=\"-37.8\" font-family=\"Helvetica,sans-Serif\" font-size=\"14.00\">samples = 2043</text>\n",
       "<text text-anchor=\"start\" x=\"579.5\" y=\"-22.8\" font-family=\"Helvetica,sans-Serif\" font-size=\"14.00\">value = [1093.45, 729.14]</text>\n",
       "<text text-anchor=\"start\" x=\"618\" y=\"-7.8\" font-family=\"Helvetica,sans-Serif\" font-size=\"14.00\">class = good</text>\n",
       "</g>\n",
       "<!-- 5&#45;&gt;7 -->\n",
       "<g id=\"edge7\" class=\"edge\"><title>5&#45;&gt;7</title>\n",
       "<path fill=\"none\" stroke=\"black\" d=\"M625.806,-111.407C630.195,-100.483 634.953,-88.6371 639.384,-77.6067\"/>\n",
       "<polygon fill=\"black\" stroke=\"black\" points=\"642.697,-78.7509 643.177,-68.1669 636.201,-76.1416 642.697,-78.7509\"/>\n",
       "</g>\n",
       "<!-- 9 -->\n",
       "<g id=\"node10\" class=\"node\"><title>9</title>\n",
       "<path fill=\"#e58139\" fill-opacity=\"0.341176\" stroke=\"black\" d=\"M964.5,-194.5C964.5,-194.5 818.5,-194.5 818.5,-194.5 812.5,-194.5 806.5,-188.5 806.5,-182.5 806.5,-182.5 806.5,-123.5 806.5,-123.5 806.5,-117.5 812.5,-111.5 818.5,-111.5 818.5,-111.5 964.5,-111.5 964.5,-111.5 970.5,-111.5 976.5,-117.5 976.5,-123.5 976.5,-123.5 976.5,-182.5 976.5,-182.5 976.5,-188.5 970.5,-194.5 964.5,-194.5\"/>\n",
       "<text text-anchor=\"start\" x=\"863\" y=\"-179.3\" font-family=\"Helvetica,sans-Serif\" font-size=\"14.00\">Sex ≤ 0.5</text>\n",
       "<text text-anchor=\"start\" x=\"847.5\" y=\"-164.3\" font-family=\"Helvetica,sans-Serif\" font-size=\"14.00\">entropy = 0.97</text>\n",
       "<text text-anchor=\"start\" x=\"843\" y=\"-149.3\" font-family=\"Helvetica,sans-Serif\" font-size=\"14.00\">samples = 8837</text>\n",
       "<text text-anchor=\"start\" x=\"814.5\" y=\"-134.3\" font-family=\"Helvetica,sans-Serif\" font-size=\"14.00\">value = [4738.9, 3116.56]</text>\n",
       "<text text-anchor=\"start\" x=\"853\" y=\"-119.3\" font-family=\"Helvetica,sans-Serif\" font-size=\"14.00\">class = good</text>\n",
       "</g>\n",
       "<!-- 8&#45;&gt;9 -->\n",
       "<g id=\"edge9\" class=\"edge\"><title>8&#45;&gt;9</title>\n",
       "<path fill=\"none\" stroke=\"black\" d=\"M891.5,-230.407C891.5,-222.149 891.5,-213.364 891.5,-204.802\"/>\n",
       "<polygon fill=\"black\" stroke=\"black\" points=\"895,-204.521 891.5,-194.521 888,-204.521 895,-204.521\"/>\n",
       "</g>\n",
       "<!-- 12 -->\n",
       "<g id=\"node13\" class=\"node\"><title>12</title>\n",
       "<path fill=\"#e58139\" fill-opacity=\"0.607843\" stroke=\"black\" d=\"M1320,-194.5C1320,-194.5 1129,-194.5 1129,-194.5 1123,-194.5 1117,-188.5 1117,-182.5 1117,-182.5 1117,-123.5 1117,-123.5 1117,-117.5 1123,-111.5 1129,-111.5 1129,-111.5 1320,-111.5 1320,-111.5 1326,-111.5 1332,-117.5 1332,-123.5 1332,-123.5 1332,-182.5 1332,-182.5 1332,-188.5 1326,-194.5 1320,-194.5\"/>\n",
       "<text text-anchor=\"start\" x=\"1125\" y=\"-179.3\" font-family=\"Helvetica,sans-Serif\" font-size=\"14.00\">MONTHS_IN_THE_JOB ≤ 174.0</text>\n",
       "<text text-anchor=\"start\" x=\"1180.5\" y=\"-164.3\" font-family=\"Helvetica,sans-Serif\" font-size=\"14.00\">entropy = 0.86</text>\n",
       "<text text-anchor=\"start\" x=\"1176\" y=\"-149.3\" font-family=\"Helvetica,sans-Serif\" font-size=\"14.00\">samples = 1743</text>\n",
       "<text text-anchor=\"start\" x=\"1151.5\" y=\"-134.3\" font-family=\"Helvetica,sans-Serif\" font-size=\"14.00\">value = [990.65, 387.35]</text>\n",
       "<text text-anchor=\"start\" x=\"1186\" y=\"-119.3\" font-family=\"Helvetica,sans-Serif\" font-size=\"14.00\">class = good</text>\n",
       "</g>\n",
       "<!-- 8&#45;&gt;12 -->\n",
       "<g id=\"edge12\" class=\"edge\"><title>8&#45;&gt;12</title>\n",
       "<path fill=\"none\" stroke=\"black\" d=\"M1007.03,-230.407C1039.52,-218.994 1074.87,-206.574 1107.44,-195.129\"/>\n",
       "<polygon fill=\"black\" stroke=\"black\" points=\"1108.72,-198.388 1117,-191.771 1106.4,-191.784 1108.72,-198.388\"/>\n",
       "</g>\n",
       "<!-- 10 -->\n",
       "<g id=\"node11\" class=\"node\"><title>10</title>\n",
       "<path fill=\"#e58139\" fill-opacity=\"0.152941\" stroke=\"black\" d=\"M917.5,-68C917.5,-68 771.5,-68 771.5,-68 765.5,-68 759.5,-62 759.5,-56 759.5,-56 759.5,-12 759.5,-12 759.5,-6 765.5,-0 771.5,-0 771.5,-0 917.5,-0 917.5,-0 923.5,-0 929.5,-6 929.5,-12 929.5,-12 929.5,-56 929.5,-56 929.5,-62 923.5,-68 917.5,-68\"/>\n",
       "<text text-anchor=\"start\" x=\"800.5\" y=\"-52.8\" font-family=\"Helvetica,sans-Serif\" font-size=\"14.00\">entropy = 0.99</text>\n",
       "<text text-anchor=\"start\" x=\"796\" y=\"-37.8\" font-family=\"Helvetica,sans-Serif\" font-size=\"14.00\">samples = 2542</text>\n",
       "<text text-anchor=\"start\" x=\"767.5\" y=\"-22.8\" font-family=\"Helvetica,sans-Serif\" font-size=\"14.00\">value = [1310.89, 1108.9]</text>\n",
       "<text text-anchor=\"start\" x=\"806\" y=\"-7.8\" font-family=\"Helvetica,sans-Serif\" font-size=\"14.00\">class = good</text>\n",
       "</g>\n",
       "<!-- 9&#45;&gt;10 -->\n",
       "<g id=\"edge10\" class=\"edge\"><title>9&#45;&gt;10</title>\n",
       "<path fill=\"none\" stroke=\"black\" d=\"M875.194,-111.407C870.805,-100.483 866.047,-88.6371 861.616,-77.6067\"/>\n",
       "<polygon fill=\"black\" stroke=\"black\" points=\"864.799,-76.1416 857.823,-68.1669 858.303,-78.7509 864.799,-76.1416\"/>\n",
       "</g>\n",
       "<!-- 11 -->\n",
       "<g id=\"node12\" class=\"node\"><title>11</title>\n",
       "<path fill=\"#e58139\" fill-opacity=\"0.415686\" stroke=\"black\" d=\"M1113,-68C1113,-68 960,-68 960,-68 954,-68 948,-62 948,-56 948,-56 948,-12 948,-12 948,-6 954,-0 960,-0 960,-0 1113,-0 1113,-0 1119,-0 1125,-6 1125,-12 1125,-12 1125,-56 1125,-56 1125,-62 1119,-68 1113,-68\"/>\n",
       "<text text-anchor=\"start\" x=\"992.5\" y=\"-52.8\" font-family=\"Helvetica,sans-Serif\" font-size=\"14.00\">entropy = 0.95</text>\n",
       "<text text-anchor=\"start\" x=\"988\" y=\"-37.8\" font-family=\"Helvetica,sans-Serif\" font-size=\"14.00\">samples = 6295</text>\n",
       "<text text-anchor=\"start\" x=\"956\" y=\"-22.8\" font-family=\"Helvetica,sans-Serif\" font-size=\"14.00\">value = [3428.01, 2007.66]</text>\n",
       "<text text-anchor=\"start\" x=\"998\" y=\"-7.8\" font-family=\"Helvetica,sans-Serif\" font-size=\"14.00\">class = good</text>\n",
       "</g>\n",
       "<!-- 9&#45;&gt;11 -->\n",
       "<g id=\"edge11\" class=\"edge\"><title>9&#45;&gt;11</title>\n",
       "<path fill=\"none\" stroke=\"black\" d=\"M941.807,-111.407C956.576,-99.4902 972.705,-86.4756 987.398,-74.6199\"/>\n",
       "<polygon fill=\"black\" stroke=\"black\" points=\"989.811,-77.1705 995.396,-68.1669 985.415,-71.7227 989.811,-77.1705\"/>\n",
       "</g>\n",
       "<!-- 13 -->\n",
       "<g id=\"node14\" class=\"node\"><title>13</title>\n",
       "<path fill=\"#e58139\" fill-opacity=\"0.513725\" stroke=\"black\" d=\"M1293.5,-68C1293.5,-68 1155.5,-68 1155.5,-68 1149.5,-68 1143.5,-62 1143.5,-56 1143.5,-56 1143.5,-12 1143.5,-12 1143.5,-6 1149.5,-0 1155.5,-0 1155.5,-0 1293.5,-0 1293.5,-0 1299.5,-0 1305.5,-6 1305.5,-12 1305.5,-12 1305.5,-56 1305.5,-56 1305.5,-62 1299.5,-68 1293.5,-68\"/>\n",
       "<text text-anchor=\"start\" x=\"1180.5\" y=\"-52.8\" font-family=\"Helvetica,sans-Serif\" font-size=\"14.00\">entropy = 0.91</text>\n",
       "<text text-anchor=\"start\" x=\"1179.5\" y=\"-37.8\" font-family=\"Helvetica,sans-Serif\" font-size=\"14.00\">samples = 967</text>\n",
       "<text text-anchor=\"start\" x=\"1151.5\" y=\"-22.8\" font-family=\"Helvetica,sans-Serif\" font-size=\"14.00\">value = [538.31, 260.77]</text>\n",
       "<text text-anchor=\"start\" x=\"1186\" y=\"-7.8\" font-family=\"Helvetica,sans-Serif\" font-size=\"14.00\">class = good</text>\n",
       "</g>\n",
       "<!-- 12&#45;&gt;13 -->\n",
       "<g id=\"edge13\" class=\"edge\"><title>12&#45;&gt;13</title>\n",
       "<path fill=\"none\" stroke=\"black\" d=\"M1224.5,-111.407C1224.5,-100.704 1224.5,-89.1154 1224.5,-78.2762\"/>\n",
       "<polygon fill=\"black\" stroke=\"black\" points=\"1228,-78.1669 1224.5,-68.1669 1221,-78.167 1228,-78.1669\"/>\n",
       "</g>\n",
       "<!-- 14 -->\n",
       "<g id=\"node15\" class=\"node\"><title>14</title>\n",
       "<path fill=\"#e58139\" fill-opacity=\"0.721569\" stroke=\"black\" d=\"M1473.5,-68C1473.5,-68 1335.5,-68 1335.5,-68 1329.5,-68 1323.5,-62 1323.5,-56 1323.5,-56 1323.5,-12 1323.5,-12 1323.5,-6 1329.5,-0 1335.5,-0 1335.5,-0 1473.5,-0 1473.5,-0 1479.5,-0 1485.5,-6 1485.5,-12 1485.5,-12 1485.5,-56 1485.5,-56 1485.5,-62 1479.5,-68 1473.5,-68\"/>\n",
       "<text text-anchor=\"start\" x=\"1360.5\" y=\"-52.8\" font-family=\"Helvetica,sans-Serif\" font-size=\"14.00\">entropy = 0.76</text>\n",
       "<text text-anchor=\"start\" x=\"1359.5\" y=\"-37.8\" font-family=\"Helvetica,sans-Serif\" font-size=\"14.00\">samples = 776</text>\n",
       "<text text-anchor=\"start\" x=\"1331.5\" y=\"-22.8\" font-family=\"Helvetica,sans-Serif\" font-size=\"14.00\">value = [452.33, 126.59]</text>\n",
       "<text text-anchor=\"start\" x=\"1366\" y=\"-7.8\" font-family=\"Helvetica,sans-Serif\" font-size=\"14.00\">class = good</text>\n",
       "</g>\n",
       "<!-- 12&#45;&gt;14 -->\n",
       "<g id=\"edge14\" class=\"edge\"><title>12&#45;&gt;14</title>\n",
       "<path fill=\"none\" stroke=\"black\" d=\"M1286.95,-111.407C1305.79,-99.1591 1326.42,-85.7518 1345.06,-73.6347\"/>\n",
       "<polygon fill=\"black\" stroke=\"black\" points=\"1347,-76.5514 1353.47,-68.1669 1343.18,-70.6823 1347,-76.5514\"/>\n",
       "</g>\n",
       "</g>\n",
       "</svg>\n"
      ],
      "text/plain": [
       "<graphviz.files.Source at 0x7f26c0e564a8>"
      ]
     },
     "execution_count": 29,
     "metadata": {},
     "output_type": "execute_result"
    }
   ],
   "source": [
    "dot_data = tree.export_graphviz(\n",
    "    dt, out_file=None,\n",
    "    feature_names=features,  \n",
    "    class_names=['good', 'bad'],#nullas adta vissza a kolcsont, az egyes meg nem\n",
    "    filled=True, rounded=True,  \n",
    "    special_characters=True,\n",
    "    leaves_parallel=True, \n",
    "    precision=2\n",
    ")\n",
    "graph = graphviz.Source(dot_data) \n",
    "graph"
   ]
  },
  {
   "cell_type": "code",
   "execution_count": 30,
   "metadata": {
    "collapsed": true
   },
   "outputs": [],
   "source": [
    "dt = DecisionTreeClassifier(max_depth=10, \n",
    "                            class_weight=\"balanced\", \n",
    "                            criterion='entropy')\n",
    "dt = dt.fit(X_train, y_train)\n",
    "y_pred = pd.Series(dt.predict(X_test), index=y_test.index)\n",
    "y_pred_proba = pd.Series(dt.predict_proba(X_test)[:, 1], index=y_test.index)"
   ]
  },
  {
   "cell_type": "code",
   "execution_count": 31,
   "metadata": {},
   "outputs": [
    {
     "name": "stdout",
     "output_type": "stream",
     "text": [
      "0.5578 0.5090 0.236804 0.6690 0.3498 0.592819 [0 1]\n"
     ]
    }
   ],
   "source": [
    "score_classifier(y_test, y_pred, y_pred_proba) #az atirt orai jobbat ad vissza"
   ]
  },
  {
   "cell_type": "markdown",
   "metadata": {},
   "source": [
    "# Feature importance \n",
    "minel tobbszor van hasznalva egy faban a dontesekhez egy valtozo, annal fontosab"
   ]
  },
  {
   "cell_type": "code",
   "execution_count": 32,
   "metadata": {},
   "outputs": [
    {
     "data": {
      "text/plain": [
       "<matplotlib.axes._subplots.AxesSubplot at 0x7f2681820f28>"
      ]
     },
     "execution_count": 32,
     "metadata": {},
     "output_type": "execute_result"
    },
    {
     "data": {
      "image/png": "[encoded data removed]",
      "text/plain": [
       "<matplotlib.figure.Figure at 0x7f2681820470>"
      ]
     },
     "metadata": {},
     "output_type": "display_data"
    }
   ],
   "source": [
    "fi = pd.Series(\n",
    "    dt.feature_importances_, \n",
    "    index=features\n",
    ")\n",
    "fi\n",
    "fi.sort_values().plot(kind='barh', grid=True, figsize=(12, 4))"
   ]
  },
  {
   "cell_type": "code",
   "execution_count": 33,
   "metadata": {
    "scrolled": true
   },
   "outputs": [
    {
     "data": {
      "text/plain": [
       "0.572667    1232\n",
       "0.561959     603\n",
       "0.000000     602\n",
       "0.300836     549\n",
       "0.343015     532\n",
       "0.520730     522\n",
       "0.514137     338\n",
       "0.570574     287\n",
       "0.466042     277\n",
       "0.504344     271\n",
       "0.473120     270\n",
       "0.504667     261\n",
       "0.496292     252\n",
       "0.556326     247\n",
       "0.530496     233\n",
       "0.735137     217\n",
       "0.515560     210\n",
       "0.507547     208\n",
       "0.562768     184\n",
       "0.628949     184\n",
       "0.652127     180\n",
       "0.658249     176\n",
       "0.424112     166\n",
       "0.329771     164\n",
       "0.479047     147\n",
       "0.378457     131\n",
       "0.573346     129\n",
       "0.490706     128\n",
       "0.400398     125\n",
       "0.419321     124\n",
       "            ... \n",
       "0.135163       9\n",
       "0.084544       9\n",
       "0.311056       9\n",
       "0.726034       8\n",
       "0.390838       7\n",
       "0.703295       6\n",
       "0.844187       6\n",
       "0.960600       6\n",
       "0.670155       6\n",
       "0.503935       5\n",
       "0.643619       5\n",
       "0.752940       5\n",
       "0.619103       5\n",
       "0.559439       5\n",
       "0.589181       4\n",
       "0.871340       4\n",
       "0.238138       4\n",
       "0.488781       4\n",
       "0.603772       3\n",
       "0.680356       3\n",
       "0.252963       3\n",
       "0.890434       3\n",
       "0.698975       3\n",
       "0.432431       3\n",
       "0.448334       2\n",
       "0.743752       2\n",
       "0.730384       2\n",
       "0.904593       2\n",
       "0.575279       1\n",
       "0.924187       1\n",
       "Length: 144, dtype: int64"
      ]
     },
     "execution_count": 33,
     "metadata": {},
     "output_type": "execute_result"
    }
   ],
   "source": [
    "y_pred_proba.value_counts() #minel tobb konfidenciat prediktal, annal jobb, 'risk' szerinti sorrendbe rendezhetoseg miatt"
   ]
  },
  {
   "cell_type": "code",
   "execution_count": 262,
   "metadata": {},
   "outputs": [
    {
     "data": {
      "text/plain": [
       "<matplotlib.axes._subplots.AxesSubplot at 0x7f5af9933a20>"
      ]
     },
     "execution_count": 262,
     "metadata": {},
     "output_type": "execute_result"
    },
    {
     "data": {
      "image/png": "[encoded data removed]",
      "text/plain": [
       "<matplotlib.figure.Figure at 0x7f5b1d9ac518>"
      ]
     },
     "metadata": {},
     "output_type": "display_data"
    }
   ],
   "source": [
    "y_pred_proba.plot(kind='hist', bins=8, grid=True)"
   ]
  },
  {
   "cell_type": "markdown",
   "metadata": {},
   "source": [
    "# Excercise\n",
    "- építs egy modellt az összes felhasználható feature segítségével, adott magasságú fához\n",
    "- értékeld ki a modellt az előzőkben készített modellhez és a dummy modellekhez képest. Melyik jóságmértéknél milyen irányú változást tapasztaltál?\n",
    "- értékeld a hozzáadott feature-t feature importance alapján. \n",
    "- Hagyj el egy feature-t amelynek magas a feature importance és nézd meg hogy változnak a jóságmértékek. \n",
    "- Hagyj el egy feature-t amelynek alacsony a feature importance és nézd meg hogy változnak a jóságmértékek. "
   ]
  },
  {
   "cell_type": "code",
   "execution_count": 34,
   "metadata": {
    "collapsed": true
   },
   "outputs": [],
   "source": [
    "features = list(df.columns[1:])\n",
    "features.remove('TARGET_LABEL_BAD')"
   ]
  },
  {
   "cell_type": "code",
   "execution_count": 35,
   "metadata": {
    "collapsed": true
   },
   "outputs": [],
   "source": [
    "X_train = train.loc[:, features]\n",
    "y_train = train.TARGET_LABEL_BAD\n",
    "\n",
    "X_test = test.loc[:, features]\n",
    "y_test = test.TARGET_LABEL_BAD"
   ]
  },
  {
   "cell_type": "code",
   "execution_count": 36,
   "metadata": {},
   "outputs": [
    {
     "name": "stdout",
     "output_type": "stream",
     "text": [
      "0.4958 0.5074 0.202323 0.5081 0.2894 0.500000 [0 1]\n"
     ]
    }
   ],
   "source": [
    "cl = DummyClassifier(strategy=\"uniform\", random_state=1123)\n",
    "cl.fit(X_train, y_train)\n",
    "y_pred = pd.Series(cl.predict(X_test), index=y_test.index)\n",
    "y_pred_proba = pd.Series(cl.predict_proba(X_test)[:, 1], index=y_test.index)\n",
    "score_classifier(y_test, y_pred, y_pred_proba)"
   ]
  },
  {
   "cell_type": "code",
   "execution_count": 37,
   "metadata": {},
   "outputs": [
    {
     "name": "stdout",
     "output_type": "stream",
     "text": [
      "0.4302 0.6021 0.267014 0.5818 0.3660 0.623322 [1 0]\n"
     ]
    }
   ],
   "source": [
    "dt = DecisionTreeClassifier(max_depth=10, \n",
    "                            class_weight=\"balanced\", \n",
    "                            criterion='entropy')\n",
    "dt = dt.fit(X_train, y_train)\n",
    "y_pred = pd.Series(dt.predict(X_test), index=y_test.index)\n",
    "y_pred_proba = pd.Series(dt.predict_proba(X_test)[:, 1], index=y_test.index)\n",
    "score_classifier(y_test, y_pred, y_pred_proba)"
   ]
  },
  {
   "cell_type": "code",
   "execution_count": 38,
   "metadata": {},
   "outputs": [
    {
     "data": {
      "text/plain": [
       "<matplotlib.axes._subplots.AxesSubplot at 0x7f26a9689208>"
      ]
     },
     "execution_count": 38,
     "metadata": {},
     "output_type": "execute_result"
    },
    {
     "data": {
      "image/png": "[encoded data removed]",
      "text/plain": [
       "<matplotlib.figure.Figure at 0x7f26a961cdd8>"
      ]
     },
     "metadata": {},
     "output_type": "display_data"
    }
   ],
   "source": [
    "fi = pd.Series(\n",
    "    dt.feature_importances_, \n",
    "    index=features\n",
    ")\n",
    "fi.sort_values(inplace=True)\n",
    "fi.plot(kind='barh', grid=True, figsize=(12, 4))"
   ]
  },
  {
   "cell_type": "code",
   "execution_count": 39,
   "metadata": {},
   "outputs": [
    {
     "data": {
      "text/plain": [
       "BIN_FLAG_RESIDENCE_STATE_WORKING_STATE         0.000000\n",
       "SHOP_RANK                                      0.000000\n",
       "BIN_FLAG_MOTHERS_NAME                          0.000940\n",
       "BIN_FLAG_RESIDENCIAL_ADDRESS_POSTAL_ADDRESS    0.005604\n",
       "BIN_FLAG_FATHERS_NAME                          0.008543\n",
       "MATE_INCOME                                    0.013818\n",
       "QUANT_ADDITIONAL_CARDS_IN_THE_APPLICATION      0.020401\n",
       "CAT_RESIDENCE_TYPE                             0.025543\n",
       "BIN_FLAG_RESIDENCE_TOWN_WORKING_TOWN           0.025696\n",
       "CAT_MARITAL_STATUS                             0.035184\n",
       "Sex                                            0.038652\n",
       "AREA_CODE_RESIDENCIAL_PHONE                    0.043604\n",
       "PAYMENT_DAY                                    0.067682\n",
       "MONTHS_IN_THE_JOB                              0.070656\n",
       "MONTHS_IN_RESIDENCE                            0.075588\n",
       "ID_Shop                                        0.078163\n",
       "PERSONAL_NET_INCOME                            0.105547\n",
       "PROFESSION_CODE                                0.109361\n",
       "Age                                            0.275019\n",
       "dtype: float64"
      ]
     },
     "execution_count": 39,
     "metadata": {},
     "output_type": "execute_result"
    }
   ],
   "source": [
    "fi"
   ]
  },
  {
   "cell_type": "code",
   "execution_count": 40,
   "metadata": {
    "collapsed": true
   },
   "outputs": [],
   "source": [
    "features_without_age = features.copy()\n",
    "features_without_age.remove('Age')\n",
    "\n",
    "features_without_mate_income = features.copy()\n",
    "features_without_mate_income.remove('MATE_INCOME')"
   ]
  },
  {
   "cell_type": "code",
   "execution_count": 41,
   "metadata": {},
   "outputs": [
    {
     "name": "stdout",
     "output_type": "stream",
     "text": [
      "0.4934 0.5627 0.256971 0.6422 0.3671 0.619397 [1 0]\n"
     ]
    }
   ],
   "source": [
    "X_train = train.loc[:, features_without_age]\n",
    "y_train = train.TARGET_LABEL_BAD\n",
    "\n",
    "X_test = test.loc[:, features_without_age]\n",
    "y_test = test.TARGET_LABEL_BAD\n",
    "\n",
    "dt = DecisionTreeClassifier(max_depth=10, \n",
    "                            class_weight=\"balanced\", \n",
    "                            criterion='entropy')\n",
    "dt = dt.fit(X_train, y_train)\n",
    "y_pred = pd.Series(dt.predict(X_test), index=y_test.index)\n",
    "y_pred_proba = pd.Series(dt.predict_proba(X_test)[:, 1], index=y_test.index)\n",
    "score_classifier(y_test, y_pred, y_pred_proba)"
   ]
  },
  {
   "cell_type": "markdown",
   "metadata": {},
   "source": [
    "meg kell nezni, hogy magas FI-ju valtozok elhagyasaval kulonbozo metrikak nonek-e, mert csak overfittinget okoznak, ha benne hagyjuk oket"
   ]
  },
  {
   "cell_type": "code",
   "execution_count": 42,
   "metadata": {},
   "outputs": [
    {
     "name": "stdout",
     "output_type": "stream",
     "text": [
      "0.4601 0.5846 0.263085 0.6130 0.3682 0.623590 [1 0]\n"
     ]
    }
   ],
   "source": [
    "X_train = train.loc[:, features_without_mate_income]\n",
    "y_train = train.TARGET_LABEL_BAD\n",
    "\n",
    "X_test = test.loc[:, features_without_mate_income]\n",
    "y_test = test.TARGET_LABEL_BAD\n",
    "\n",
    "dt = DecisionTreeClassifier(max_depth=10, \n",
    "                            class_weight=\"balanced\", \n",
    "                            criterion='entropy')\n",
    "dt = dt.fit(X_train, y_train)\n",
    "y_pred = pd.Series(dt.predict(X_test), index=y_test.index)\n",
    "y_pred_proba = pd.Series(dt.predict_proba(X_test)[:, 1], index=y_test.index)\n",
    "score_classifier(y_test, y_pred, y_pred_proba)"
   ]
  },
  {
   "cell_type": "markdown",
   "metadata": {},
   "source": [
    "# Szelekciós stratégiák\n",
    "\n",
    "- Forward selection: bevett változók halmazát növeljük, amíg a megadott jóságkritérium(ok) növekednek\n",
    "- Backward elimination: elhagyunk változókat a teljes halmazból, amíg a megadott jóságkritérium(ok) növekednek"
   ]
  },
  {
   "cell_type": "markdown",
   "metadata": {},
   "source": [
    "# KNN\n",
    "\n",
    "The principle behind nearest neighbor methods is to find a predefined number of training samples closest in distance to the new point, and predict the label from these.\n",
    "\n",
    "http://scikit-learn.org/stable/modules/neighbors.html#neighbors"
   ]
  },
  {
   "cell_type": "code",
   "execution_count": 43,
   "metadata": {
    "collapsed": true
   },
   "outputs": [],
   "source": [
    "from sklearn.neighbors import KNeighborsClassifier"
   ]
  },
  {
   "cell_type": "code",
   "execution_count": 44,
   "metadata": {},
   "outputs": [
    {
     "data": {
      "text/html": [
       "<div>\n",
       "<style>\n",
       "    .dataframe thead tr:only-child th {\n",
       "        text-align: right;\n",
       "    }\n",
       "\n",
       "    .dataframe thead th {\n",
       "        text-align: left;\n",
       "    }\n",
       "\n",
       "    .dataframe tbody tr th {\n",
       "        vertical-align: top;\n",
       "    }\n",
       "</style>\n",
       "<table border=\"1\" class=\"dataframe\">\n",
       "  <thead>\n",
       "    <tr style=\"text-align: right;\">\n",
       "      <th></th>\n",
       "      <th>MONTHS_IN_RESIDENCE</th>\n",
       "      <th>MONTHS_IN_THE_JOB</th>\n",
       "    </tr>\n",
       "  </thead>\n",
       "  <tbody>\n",
       "    <tr>\n",
       "      <th>count</th>\n",
       "      <td>50000.000000</td>\n",
       "      <td>50000.000000</td>\n",
       "    </tr>\n",
       "    <tr>\n",
       "      <th>mean</th>\n",
       "      <td>153.288000</td>\n",
       "      <td>50.600400</td>\n",
       "    </tr>\n",
       "    <tr>\n",
       "      <th>std</th>\n",
       "      <td>136.498105</td>\n",
       "      <td>73.890169</td>\n",
       "    </tr>\n",
       "    <tr>\n",
       "      <th>min</th>\n",
       "      <td>0.000000</td>\n",
       "      <td>0.000000</td>\n",
       "    </tr>\n",
       "    <tr>\n",
       "      <th>50%</th>\n",
       "      <td>120.000000</td>\n",
       "      <td>24.000000</td>\n",
       "    </tr>\n",
       "    <tr>\n",
       "      <th>75%</th>\n",
       "      <td>240.000000</td>\n",
       "      <td>60.000000</td>\n",
       "    </tr>\n",
       "    <tr>\n",
       "      <th>90%</th>\n",
       "      <td>360.000000</td>\n",
       "      <td>144.000000</td>\n",
       "    </tr>\n",
       "    <tr>\n",
       "      <th>99%</th>\n",
       "      <td>564.000000</td>\n",
       "      <td>336.000000</td>\n",
       "    </tr>\n",
       "    <tr>\n",
       "      <th>max</th>\n",
       "      <td>1188.000000</td>\n",
       "      <td>1176.000000</td>\n",
       "    </tr>\n",
       "  </tbody>\n",
       "</table>\n",
       "</div>"
      ],
      "text/plain": [
       "       MONTHS_IN_RESIDENCE  MONTHS_IN_THE_JOB\n",
       "count         50000.000000       50000.000000\n",
       "mean            153.288000          50.600400\n",
       "std             136.498105          73.890169\n",
       "min               0.000000           0.000000\n",
       "50%             120.000000          24.000000\n",
       "75%             240.000000          60.000000\n",
       "90%             360.000000         144.000000\n",
       "99%             564.000000         336.000000\n",
       "max            1188.000000        1176.000000"
      ]
     },
     "execution_count": 44,
     "metadata": {},
     "output_type": "execute_result"
    }
   ],
   "source": [
    "df[['MONTHS_IN_RESIDENCE', 'MONTHS_IN_THE_JOB']].describe(percentiles=[0.75, 0.9, 0.99])"
   ]
  },
  {
   "cell_type": "code",
   "execution_count": 45,
   "metadata": {},
   "outputs": [
    {
     "data": {
      "text/plain": [
       "<matplotlib.axes._subplots.AxesSubplot at 0x7f26a8cdc208>"
      ]
     },
     "execution_count": 45,
     "metadata": {},
     "output_type": "execute_result"
    },
    {
     "data": {
      "image/png": "[encoded data removed]",
      "text/plain": [
       "<matplotlib.figure.Figure at 0x7f26a8da3438>"
      ]
     },
     "metadata": {},
     "output_type": "display_data"
    }
   ],
   "source": [
    "df[['MONTHS_IN_RESIDENCE', 'MONTHS_IN_THE_JOB']].plot(kind='hist', bins=45, alpha=0.5)"
   ]
  },
  {
   "cell_type": "code",
   "execution_count": 46,
   "metadata": {
    "collapsed": true
   },
   "outputs": [],
   "source": [
    "df['LOG_MONTHS_IN_RESIDENCE'] = np.log(df['MONTHS_IN_RESIDENCE'] + 1)\n",
    "df['LOG_MONTHS_IN_THE_JOB'] = np.log(df['MONTHS_IN_THE_JOB'] + 1)"
   ]
  },
  {
   "cell_type": "code",
   "execution_count": 47,
   "metadata": {},
   "outputs": [
    {
     "data": {
      "text/plain": [
       "<matplotlib.axes._subplots.AxesSubplot at 0x7f26a8c01ef0>"
      ]
     },
     "execution_count": 47,
     "metadata": {},
     "output_type": "execute_result"
    },
    {
     "data": {
      "image/png": "[encoded data removed]",
      "text/plain": [
       "<matplotlib.figure.Figure at 0x7f26a8c3ad30>"
      ]
     },
     "metadata": {},
     "output_type": "display_data"
    }
   ],
   "source": [
    "df[['LOG_MONTHS_IN_RESIDENCE', 'LOG_MONTHS_IN_THE_JOB']].plot(kind='hist', bins=45, alpha=0.5)"
   ]
  },
  {
   "cell_type": "code",
   "execution_count": 48,
   "metadata": {},
   "outputs": [
    {
     "data": {
      "text/plain": [
       "count     5.000000e+04\n",
       "mean      8.432965e+03\n",
       "std       4.487915e+05\n",
       "min       0.000000e+00\n",
       "50%       4.000000e+02\n",
       "99%       3.418040e+03\n",
       "99.9%     8.231269e+03\n",
       "99.99%    2.557041e+07\n",
       "max       3.852910e+07\n",
       "Name: PERSONAL_NET_INCOME, dtype: float64"
      ]
     },
     "execution_count": 48,
     "metadata": {},
     "output_type": "execute_result"
    }
   ],
   "source": [
    "df.PERSONAL_NET_INCOME.describe(percentiles=[0.99,0.999, 0.9999])"
   ]
  },
  {
   "cell_type": "markdown",
   "metadata": {},
   "source": [
    "ha nem csinalunk standard scalet, akkor a surubb valtozo fogja dominalni a knn-t"
   ]
  },
  {
   "cell_type": "code",
   "execution_count": 49,
   "metadata": {},
   "outputs": [
    {
     "data": {
      "text/plain": [
       "<matplotlib.axes._subplots.AxesSubplot at 0x7f26a8a4afd0>"
      ]
     },
     "execution_count": 49,
     "metadata": {},
     "output_type": "execute_result"
    },
    {
     "data": {
      "image/png": "[encoded data removed]",
      "text/plain": [
       "<matplotlib.figure.Figure at 0x7f26a8a948d0>"
      ]
     },
     "metadata": {},
     "output_type": "display_data"
    }
   ],
   "source": [
    "df[['PERSONAL_NET_INCOME']].plot(kind='hist', bins=45, alpha=0.5)"
   ]
  },
  {
   "cell_type": "code",
   "execution_count": 50,
   "metadata": {
    "collapsed": true
   },
   "outputs": [],
   "source": [
    "df['LOG_CLIPPED_PERSONAL_NET_INCOME'] = np.log(df.PERSONAL_NET_INCOME.clip(0, 10000) + 1) #logit trafo es kiugro ertekek levagasa"
   ]
  },
  {
   "cell_type": "code",
   "execution_count": 51,
   "metadata": {},
   "outputs": [
    {
     "data": {
      "text/plain": [
       "<matplotlib.axes._subplots.AxesSubplot at 0x7f26813db2b0>"
      ]
     },
     "execution_count": 51,
     "metadata": {},
     "output_type": "execute_result"
    },
    {
     "data": {
      "image/png": "[encoded data removed]",
      "text/plain": [
       "<matplotlib.figure.Figure at 0x7f26a8c32c50>"
      ]
     },
     "metadata": {},
     "output_type": "display_data"
    }
   ],
   "source": [
    "df['LOG_CLIPPED_PERSONAL_NET_INCOME'].plot(kind='hist', bins=31)"
   ]
  },
  {
   "cell_type": "code",
   "execution_count": 52,
   "metadata": {
    "collapsed": true
   },
   "outputs": [],
   "source": [
    "train, test = train_test_split(df, train_size=0.75, test_size=0.25, random_state=432, \n",
    "                               stratify=df.TARGET_LABEL_BAD)"
   ]
  },
  {
   "cell_type": "code",
   "execution_count": 53,
   "metadata": {
    "collapsed": true
   },
   "outputs": [],
   "source": [
    "features = ['LOG_MONTHS_IN_RESIDENCE', 'LOG_MONTHS_IN_THE_JOB', 'LOG_CLIPPED_PERSONAL_NET_INCOME']\n",
    "\n",
    "X_train = train.loc[:, features]\n",
    "y_train = train.TARGET_LABEL_BAD\n",
    "\n",
    "X_test = test.loc[:, features]\n",
    "y_test = test.TARGET_LABEL_BAD"
   ]
  },
  {
   "cell_type": "code",
   "execution_count": 54,
   "metadata": {
    "collapsed": true
   },
   "outputs": [],
   "source": [
    "from sklearn.preprocessing import StandardScaler"
   ]
  },
  {
   "cell_type": "code",
   "execution_count": 55,
   "metadata": {
    "collapsed": true
   },
   "outputs": [],
   "source": [
    "#az eddig megismert mintahalmaz mert szorasaval felepitett modelt alkalmazzuk majd a bejovo adathalmazra, tehat a taniton\n",
    "#nezzuk meg a szorast, meg a kulonbozo tulajdonsagokat\n",
    "sc = StandardScaler()\n",
    "sc = sc.fit(X_train)\n",
    "scaled_X_train = pd.DataFrame(sc.transform(X_train), index=X_train.index)\n",
    "scaled_X_train.columns = features\n",
    "scaled_X_test = pd.DataFrame(sc.transform(X_test), index=X_test.index)\n",
    "scaled_X_test.columns = features"
   ]
  },
  {
   "cell_type": "code",
   "execution_count": 56,
   "metadata": {},
   "outputs": [
    {
     "data": {
      "text/html": [
       "<div>\n",
       "<style>\n",
       "    .dataframe thead tr:only-child th {\n",
       "        text-align: right;\n",
       "    }\n",
       "\n",
       "    .dataframe thead th {\n",
       "        text-align: left;\n",
       "    }\n",
       "\n",
       "    .dataframe tbody tr th {\n",
       "        vertical-align: top;\n",
       "    }\n",
       "</style>\n",
       "<table border=\"1\" class=\"dataframe\">\n",
       "  <thead>\n",
       "    <tr style=\"text-align: right;\">\n",
       "      <th></th>\n",
       "      <th>count</th>\n",
       "      <th>mean</th>\n",
       "      <th>std</th>\n",
       "      <th>min</th>\n",
       "      <th>25%</th>\n",
       "      <th>50%</th>\n",
       "      <th>75%</th>\n",
       "      <th>max</th>\n",
       "    </tr>\n",
       "  </thead>\n",
       "  <tbody>\n",
       "    <tr>\n",
       "      <th>LOG_MONTHS_IN_RESIDENCE</th>\n",
       "      <td>37500.0</td>\n",
       "      <td>-4.100305e-16</td>\n",
       "      <td>1.000013</td>\n",
       "      <td>-3.523347</td>\n",
       "      <td>-0.682872</td>\n",
       "      <td>0.249191</td>\n",
       "      <td>0.791187</td>\n",
       "      <td>2.038733</td>\n",
       "    </tr>\n",
       "    <tr>\n",
       "      <th>LOG_MONTHS_IN_THE_JOB</th>\n",
       "      <td>37500.0</td>\n",
       "      <td>4.926430e-18</td>\n",
       "      <td>1.000013</td>\n",
       "      <td>-1.658504</td>\n",
       "      <td>-0.174440</td>\n",
       "      <td>0.203918</td>\n",
       "      <td>0.720022</td>\n",
       "      <td>2.396050</td>\n",
       "    </tr>\n",
       "    <tr>\n",
       "      <th>LOG_CLIPPED_PERSONAL_NET_INCOME</th>\n",
       "      <td>37500.0</td>\n",
       "      <td>2.540901e-16</td>\n",
       "      <td>1.000013</td>\n",
       "      <td>-5.167594</td>\n",
       "      <td>-0.363574</td>\n",
       "      <td>-0.023288</td>\n",
       "      <td>0.502471</td>\n",
       "      <td>2.730693</td>\n",
       "    </tr>\n",
       "  </tbody>\n",
       "</table>\n",
       "</div>"
      ],
      "text/plain": [
       "                                   count          mean       std       min  \\\n",
       "LOG_MONTHS_IN_RESIDENCE          37500.0 -4.100305e-16  1.000013 -3.523347   \n",
       "LOG_MONTHS_IN_THE_JOB            37500.0  4.926430e-18  1.000013 -1.658504   \n",
       "LOG_CLIPPED_PERSONAL_NET_INCOME  37500.0  2.540901e-16  1.000013 -5.167594   \n",
       "\n",
       "                                      25%       50%       75%       max  \n",
       "LOG_MONTHS_IN_RESIDENCE         -0.682872  0.249191  0.791187  2.038733  \n",
       "LOG_MONTHS_IN_THE_JOB           -0.174440  0.203918  0.720022  2.396050  \n",
       "LOG_CLIPPED_PERSONAL_NET_INCOME -0.363574 -0.023288  0.502471  2.730693  "
      ]
     },
     "execution_count": 56,
     "metadata": {},
     "output_type": "execute_result"
    }
   ],
   "source": [
    "scaled_X_train.describe().T #sikeres a skalazas -> atlag 0 koruli, szorasa kb 1"
   ]
  },
  {
   "cell_type": "code",
   "execution_count": 57,
   "metadata": {},
   "outputs": [
    {
     "data": {
      "text/html": [
       "<div>\n",
       "<style>\n",
       "    .dataframe thead tr:only-child th {\n",
       "        text-align: right;\n",
       "    }\n",
       "\n",
       "    .dataframe thead th {\n",
       "        text-align: left;\n",
       "    }\n",
       "\n",
       "    .dataframe tbody tr th {\n",
       "        vertical-align: top;\n",
       "    }\n",
       "</style>\n",
       "<table border=\"1\" class=\"dataframe\">\n",
       "  <thead>\n",
       "    <tr style=\"text-align: right;\">\n",
       "      <th></th>\n",
       "      <th>count</th>\n",
       "      <th>mean</th>\n",
       "      <th>std</th>\n",
       "      <th>min</th>\n",
       "      <th>25%</th>\n",
       "      <th>50%</th>\n",
       "      <th>75%</th>\n",
       "      <th>max</th>\n",
       "    </tr>\n",
       "  </thead>\n",
       "  <tbody>\n",
       "    <tr>\n",
       "      <th>LOG_MONTHS_IN_RESIDENCE</th>\n",
       "      <td>12500.0</td>\n",
       "      <td>-0.011852</td>\n",
       "      <td>1.012262</td>\n",
       "      <td>-3.523347</td>\n",
       "      <td>-0.682872</td>\n",
       "      <td>0.249191</td>\n",
       "      <td>0.791187</td>\n",
       "      <td>2.046713</td>\n",
       "    </tr>\n",
       "    <tr>\n",
       "      <th>LOG_MONTHS_IN_THE_JOB</th>\n",
       "      <td>12500.0</td>\n",
       "      <td>-0.010099</td>\n",
       "      <td>1.001471</td>\n",
       "      <td>-1.658504</td>\n",
       "      <td>-0.174440</td>\n",
       "      <td>-0.174440</td>\n",
       "      <td>0.720022</td>\n",
       "      <td>2.432573</td>\n",
       "    </tr>\n",
       "    <tr>\n",
       "      <th>LOG_CLIPPED_PERSONAL_NET_INCOME</th>\n",
       "      <td>12500.0</td>\n",
       "      <td>-0.020266</td>\n",
       "      <td>1.034468</td>\n",
       "      <td>-5.167594</td>\n",
       "      <td>-0.366744</td>\n",
       "      <td>-0.027555</td>\n",
       "      <td>0.490867</td>\n",
       "      <td>2.730693</td>\n",
       "    </tr>\n",
       "  </tbody>\n",
       "</table>\n",
       "</div>"
      ],
      "text/plain": [
       "                                   count      mean       std       min  \\\n",
       "LOG_MONTHS_IN_RESIDENCE          12500.0 -0.011852  1.012262 -3.523347   \n",
       "LOG_MONTHS_IN_THE_JOB            12500.0 -0.010099  1.001471 -1.658504   \n",
       "LOG_CLIPPED_PERSONAL_NET_INCOME  12500.0 -0.020266  1.034468 -5.167594   \n",
       "\n",
       "                                      25%       50%       75%       max  \n",
       "LOG_MONTHS_IN_RESIDENCE         -0.682872  0.249191  0.791187  2.046713  \n",
       "LOG_MONTHS_IN_THE_JOB           -0.174440 -0.174440  0.720022  2.432573  \n",
       "LOG_CLIPPED_PERSONAL_NET_INCOME -0.366744 -0.027555  0.490867  2.730693  "
      ]
     },
     "execution_count": 57,
     "metadata": {},
     "output_type": "execute_result"
    }
   ],
   "source": [
    "scaled_X_test.describe().T"
   ]
  },
  {
   "cell_type": "code",
   "execution_count": 58,
   "metadata": {},
   "outputs": [
    {
     "name": "stdout",
     "output_type": "stream",
     "text": [
      "0.1959 0.6900 0.212740 0.2111 0.2119 0.509459 [0 1]\n",
      "0.0    10051\n",
      "1.0     2449\n",
      "dtype: int64\n"
     ]
    }
   ],
   "source": [
    "knn = KNeighborsClassifier(n_neighbors=1, p=2)\n",
    "nb = knn.fit(scaled_X_train, y_train)\n",
    "y_pred = pd.Series(knn.predict(scaled_X_test), index=y_test.index)\n",
    "y_pred_prob = pd.Series(knn.predict_proba(scaled_X_test)[:, 1], index=y_test.index)\n",
    "score_classifier(y_test, y_pred, y_pred_prob)\n",
    "print(y_pred_prob.value_counts())"
   ]
  },
  {
   "cell_type": "code",
   "execution_count": 59,
   "metadata": {},
   "outputs": [
    {
     "name": "stdout",
     "output_type": "stream",
     "text": [
      "0.1152 0.7422 0.238194 0.1390 0.1755 0.522181 [0 1]\n",
      "0.000000    6491\n",
      "0.333333    4569\n",
      "0.666667    1288\n",
      "1.000000     152\n",
      "dtype: int64\n"
     ]
    }
   ],
   "source": [
    "knn = KNeighborsClassifier(n_neighbors=3, p=2)\n",
    "nb = knn.fit(scaled_X_train, y_train)\n",
    "y_pred = pd.Series(knn.predict(scaled_X_test), index=y_test.index)\n",
    "y_pred_prob = pd.Series(knn.predict_proba(scaled_X_test)[:, 1], index=y_test.index)\n",
    "score_classifier(y_test, y_pred, y_pred_prob)\n",
    "print(y_pred_prob.value_counts())"
   ]
  },
  {
   "cell_type": "code",
   "execution_count": 60,
   "metadata": {},
   "outputs": [
    {
     "name": "stdout",
     "output_type": "stream",
     "text": [
      "0.0722 0.7607 0.210410 0.0770 0.1127 0.530780 [0 1]\n",
      "0.2    4703\n",
      "0.0    4383\n",
      "0.4    2511\n",
      "0.6     754\n",
      "0.8     139\n",
      "1.0      10\n",
      "dtype: int64\n"
     ]
    }
   ],
   "source": [
    "knn = KNeighborsClassifier(n_neighbors=5, p=2)\n",
    "nb = knn.fit(scaled_X_train, y_train)\n",
    "y_pred = pd.Series(knn.predict(scaled_X_test), index=y_test.index)\n",
    "y_pred_prob = pd.Series(knn.predict_proba(scaled_X_test)[:, 1], index=y_test.index)\n",
    "score_classifier(y_test, y_pred, y_pred_prob)\n",
    "print(y_pred_prob.value_counts())"
   ]
  },
  {
   "cell_type": "code",
   "execution_count": 61,
   "metadata": {},
   "outputs": [
    {
     "name": "stdout",
     "output_type": "stream",
     "text": [
      "0.0245 0.7910 0.264706 0.0328 0.0584 0.543114 [0 1]\n",
      "0.181818    3145\n",
      "0.090909    3036\n",
      "0.272727    2398\n",
      "0.000000    1508\n",
      "0.363636    1442\n",
      "0.454545     665\n",
      "0.545455     253\n",
      "0.636364      38\n",
      "0.818182       8\n",
      "0.727273       7\n",
      "dtype: int64\n"
     ]
    }
   ],
   "source": [
    "knn = KNeighborsClassifier(n_neighbors=11, p=2)\n",
    "nb = knn.fit(scaled_X_train, y_train)\n",
    "y_pred = pd.Series(knn.predict(scaled_X_test), index=y_test.index)\n",
    "y_pred_prob = pd.Series(knn.predict_proba(scaled_X_test)[:, 1], index=y_test.index)\n",
    "score_classifier(y_test, y_pred, y_pred_prob)\n",
    "print(y_pred_prob.value_counts())"
   ]
  },
  {
   "cell_type": "code",
   "execution_count": 62,
   "metadata": {},
   "outputs": [
    {
     "name": "stdout",
     "output_type": "stream",
     "text": [
      "0.0044 0.8007 0.290909 0.0065 0.0127 0.555493 [0 1]\n",
      "0.190476    2131\n",
      "0.142857    2064\n",
      "0.095238    1799\n",
      "0.238095    1715\n",
      "0.285714    1415\n",
      "0.047619    1080\n",
      "0.333333     926\n",
      "0.380952     576\n",
      "0.000000     300\n",
      "0.428571     270\n",
      "0.476190     169\n",
      "0.523810      37\n",
      "0.571429      18\n",
      "dtype: int64\n"
     ]
    }
   ],
   "source": [
    "knn = KNeighborsClassifier(n_neighbors=21, p=2)\n",
    "nb = knn.fit(scaled_X_train, y_train)\n",
    "y_pred = pd.Series(knn.predict(scaled_X_test), index=y_test.index)\n",
    "y_pred_prob = pd.Series(knn.predict_proba(scaled_X_test)[:, 1], index=y_test.index)\n",
    "score_classifier(y_test, y_pred, y_pred_prob)\n",
    "print(y_pred_prob.value_counts())"
   ]
  },
  {
   "cell_type": "markdown",
   "metadata": {},
   "source": [
    "# Naive bayes\n",
    "\n",
    "http://scikit-learn.org/stable/modules/naive_bayes.html#naive-bayes"
   ]
  },
  {
   "cell_type": "code",
   "execution_count": 63,
   "metadata": {
    "collapsed": true
   },
   "outputs": [],
   "source": [
    " from sklearn.naive_bayes import BernoulliNB, GaussianNB #bernoulli az a binaris kategorikus valtozokat eszi meg, a gaussi meg a\n",
    "    #gaussi eloszlassal rendelkezo folytonosokat.\n",
    "    #Bernoulli az gyorsabb, nagyobb adathalmazokon is tud dolgozni, rengeteg feature-vel"
   ]
  },
  {
   "cell_type": "code",
   "execution_count": 64,
   "metadata": {
    "collapsed": true
   },
   "outputs": [],
   "source": [
    "? BernoulliNB"
   ]
  },
  {
   "cell_type": "code",
   "execution_count": 65,
   "metadata": {
    "collapsed": true
   },
   "outputs": [],
   "source": [
    "? pd.Categorical"
   ]
  },
  {
   "cell_type": "code",
   "execution_count": 66,
   "metadata": {
    "collapsed": true
   },
   "outputs": [],
   "source": [
    "? pd.get_dummies"
   ]
  },
  {
   "cell_type": "code",
   "execution_count": 67,
   "metadata": {},
   "outputs": [
    {
     "data": {
      "text/plain": [
       "Index(['ID_Client', 'ID_Shop', 'Sex', 'Age', 'AREA_CODE_RESIDENCIAL_PHONE',\n",
       "       'PAYMENT_DAY', 'SHOP_RANK', 'MONTHS_IN_RESIDENCE', 'MONTHS_IN_THE_JOB',\n",
       "       'PROFESSION_CODE', 'MATE_INCOME', 'PERSONAL_NET_INCOME',\n",
       "       'QUANT_ADDITIONAL_CARDS_IN_THE_APPLICATION', 'TARGET_LABEL_BAD',\n",
       "       'BIN_FLAG_MOTHERS_NAME', 'BIN_FLAG_FATHERS_NAME',\n",
       "       'BIN_FLAG_RESIDENCE_TOWN_WORKING_TOWN',\n",
       "       'BIN_FLAG_RESIDENCE_STATE_WORKING_STATE',\n",
       "       'BIN_FLAG_RESIDENCIAL_ADDRESS_POSTAL_ADDRESS', 'CAT_MARITAL_STATUS',\n",
       "       'CAT_RESIDENCE_TYPE', 'LOG_MONTHS_IN_RESIDENCE',\n",
       "       'LOG_MONTHS_IN_THE_JOB', 'LOG_CLIPPED_PERSONAL_NET_INCOME'],\n",
       "      dtype='object')"
      ]
     },
     "execution_count": 67,
     "metadata": {},
     "output_type": "execute_result"
    }
   ],
   "source": [
    "df.columns"
   ]
  },
  {
   "cell_type": "code",
   "execution_count": 68,
   "metadata": {
    "collapsed": true
   },
   "outputs": [],
   "source": [
    "categoricals = [\n",
    "    'ID_Shop', 'PROFESSION_CODE', 'CAT_MARITAL_STATUS', #oran itt is kivagtunk belole a CAT_ kezdetueket\n",
    "    'CAT_RESIDENCE_TYPE', 'AREA_CODE_RESIDENCIAL_PHONE',\n",
    "]\n",
    "df_cats = pd.get_dummies(df[categoricals].apply(lambda x: pd.Categorical(x)))"
   ]
  },
  {
   "cell_type": "code",
   "execution_count": 69,
   "metadata": {
    "collapsed": true
   },
   "outputs": [],
   "source": [
    "cat_train, cat_test = train_test_split(df_cats, train_size=0.75, test_size=0.25, random_state=432, stratify=df.TARGET_LABEL_BAD)"
   ]
  },
  {
   "cell_type": "code",
   "execution_count": 70,
   "metadata": {},
   "outputs": [
    {
     "data": {
      "text/plain": [
       "(50000, 402)"
      ]
     },
     "execution_count": 70,
     "metadata": {},
     "output_type": "execute_result"
    }
   ],
   "source": [
    "df_cats.shape"
   ]
  },
  {
   "cell_type": "code",
   "execution_count": 71,
   "metadata": {},
   "outputs": [
    {
     "data": {
      "text/plain": [
       "(True, True)"
      ]
     },
     "execution_count": 71,
     "metadata": {},
     "output_type": "execute_result"
    }
   ],
   "source": [
    "(cat_train.index == train.index).all(), (cat_test.index == test.index).all()"
   ]
  },
  {
   "cell_type": "code",
   "execution_count": 72,
   "metadata": {
    "collapsed": true
   },
   "outputs": [],
   "source": [
    "X_train = cat_train\n",
    "y_train = train.TARGET_LABEL_BAD\n",
    "\n",
    "X_test = cat_test\n",
    "y_test = test.TARGET_LABEL_BAD"
   ]
  },
  {
   "cell_type": "code",
   "execution_count": 302,
   "metadata": {
    "scrolled": true
   },
   "outputs": [
    {
     "name": "stdout",
     "output_type": "stream",
     "text": [
      "0.0354 0.7963 0.411765 0.0737 0.1251 0.629769 [0 1]\n",
      "0.253861    65\n",
      "0.217818    63\n",
      "0.124703    51\n",
      "0.308382    50\n",
      "0.081708    46\n",
      "0.098052    44\n",
      "0.257189    40\n",
      "0.118001    37\n",
      "0.280503    37\n",
      "0.111115    35\n",
      "0.099610    34\n",
      "0.281210    33\n",
      "0.171911    32\n",
      "0.306378    31\n",
      "0.193191    30\n",
      "0.185823    30\n",
      "0.376068    28\n",
      "0.178431    27\n",
      "0.110770    27\n",
      "0.097151    27\n",
      "0.091065    26\n",
      "0.156703    25\n",
      "0.029580    24\n",
      "0.292116    24\n",
      "0.428377    23\n",
      "0.393838    23\n",
      "0.287711    23\n",
      "0.249193    23\n",
      "0.031489    23\n",
      "0.580256    22\n",
      "            ..\n",
      "0.170645     1\n",
      "0.517395     1\n",
      "0.251786     1\n",
      "0.044440     1\n",
      "0.085947     1\n",
      "0.613225     1\n",
      "0.321196     1\n",
      "0.243551     1\n",
      "0.201017     1\n",
      "0.130869     1\n",
      "0.049548     1\n",
      "0.186851     1\n",
      "0.215959     1\n",
      "0.436799     1\n",
      "0.472975     1\n",
      "0.092550     1\n",
      "0.210533     1\n",
      "0.031359     1\n",
      "0.053410     1\n",
      "0.171494     1\n",
      "0.334825     1\n",
      "0.143468     1\n",
      "0.357304     1\n",
      "0.078650     1\n",
      "0.262835     1\n",
      "0.482633     1\n",
      "0.211159     1\n",
      "0.067338     1\n",
      "0.049390     1\n",
      "0.160206     1\n",
      "Length: 6406, dtype: int64\n"
     ]
    }
   ],
   "source": [
    "nb = BernoulliNB()\n",
    "nb = nb.fit(cat_train, y_train)\n",
    "y_pred = pd.Series(nb.predict(cat_test), index=y_test.index)\n",
    "y_pred_prob = pd.Series(nb.predict_proba(cat_test)[:, 1], index=y_test.index)\n",
    "score_classifier(y_test, y_pred, y_pred_prob)\n",
    "print(y_pred_prob.value_counts())"
   ]
  },
  {
   "cell_type": "markdown",
   "metadata": {},
   "source": [
    "# Mi legyen a folytonos változókkal? Binnelés"
   ]
  },
  {
   "cell_type": "code",
   "execution_count": 73,
   "metadata": {},
   "outputs": [
    {
     "data": {
      "text/plain": [
       "<matplotlib.axes._subplots.AxesSubplot at 0x7f26814d3668>"
      ]
     },
     "execution_count": 73,
     "metadata": {},
     "output_type": "execute_result"
    },
    {
     "data": {
      "image/png": "[encoded data removed]",
      "text/plain": [
       "<matplotlib.figure.Figure at 0x7f26814f0518>"
      ]
     },
     "metadata": {},
     "output_type": "display_data"
    }
   ],
   "source": [
    "df['Age'].value_counts().sort_index().plot(kind='bar', figsize=(13, 4), grid=True)"
   ]
  },
  {
   "cell_type": "code",
   "execution_count": 74,
   "metadata": {
    "collapsed": true
   },
   "outputs": [],
   "source": [
    "? pd.cut"
   ]
  },
  {
   "cell_type": "code",
   "execution_count": 75,
   "metadata": {
    "scrolled": true
   },
   "outputs": [
    {
     "data": {
      "text/plain": [
       "0         (31.0, 47.0]\n",
       "1        (14.92, 31.0]\n",
       "2        (14.92, 31.0]\n",
       "3         (31.0, 47.0]\n",
       "4        (14.92, 31.0]\n",
       "5        (14.92, 31.0]\n",
       "6        (14.92, 31.0]\n",
       "7        (14.92, 31.0]\n",
       "8        (14.92, 31.0]\n",
       "9         (47.0, 63.0]\n",
       "10        (47.0, 63.0]\n",
       "11        (31.0, 47.0]\n",
       "12       (14.92, 31.0]\n",
       "13        (31.0, 47.0]\n",
       "14       (14.92, 31.0]\n",
       "15        (47.0, 63.0]\n",
       "16       (14.92, 31.0]\n",
       "17        (31.0, 47.0]\n",
       "18        (31.0, 47.0]\n",
       "19       (14.92, 31.0]\n",
       "20       (14.92, 31.0]\n",
       "21       (14.92, 31.0]\n",
       "22       (14.92, 31.0]\n",
       "23        (31.0, 47.0]\n",
       "24        (31.0, 47.0]\n",
       "25       (14.92, 31.0]\n",
       "26        (63.0, 79.0]\n",
       "27        (63.0, 79.0]\n",
       "28        (31.0, 47.0]\n",
       "29        (31.0, 47.0]\n",
       "             ...      \n",
       "49970    (14.92, 31.0]\n",
       "49971    (14.92, 31.0]\n",
       "49972     (31.0, 47.0]\n",
       "49973    (14.92, 31.0]\n",
       "49974     (31.0, 47.0]\n",
       "49975     (31.0, 47.0]\n",
       "49976    (14.92, 31.0]\n",
       "49977     (31.0, 47.0]\n",
       "49978    (14.92, 31.0]\n",
       "49979    (14.92, 31.0]\n",
       "49980    (14.92, 31.0]\n",
       "49981    (14.92, 31.0]\n",
       "49982     (31.0, 47.0]\n",
       "49983    (14.92, 31.0]\n",
       "49984    (14.92, 31.0]\n",
       "49985    (14.92, 31.0]\n",
       "49986    (14.92, 31.0]\n",
       "49987     (31.0, 47.0]\n",
       "49988    (14.92, 31.0]\n",
       "49989     (47.0, 63.0]\n",
       "49990     (31.0, 47.0]\n",
       "49991    (14.92, 31.0]\n",
       "49992     (31.0, 47.0]\n",
       "49993    (14.92, 31.0]\n",
       "49994    (14.92, 31.0]\n",
       "49995    (14.92, 31.0]\n",
       "49996     (31.0, 47.0]\n",
       "49997    (14.92, 31.0]\n",
       "49998     (31.0, 47.0]\n",
       "49999    (14.92, 31.0]\n",
       "Name: Age, Length: 50000, dtype: category\n",
       "Categories (5, interval[float64]): [(14.92, 31.0] < (31.0, 47.0] < (47.0, 63.0] < (63.0, 79.0] < (79.0, 95.0]]"
      ]
     },
     "execution_count": 75,
     "metadata": {},
     "output_type": "execute_result"
    }
   ],
   "source": [
    "pd.cut(df['Age'], bins=5)"
   ]
  },
  {
   "cell_type": "code",
   "execution_count": 85,
   "metadata": {
    "collapsed": true
   },
   "outputs": [],
   "source": [
    "? pd.qcut"
   ]
  },
  {
   "cell_type": "code",
   "execution_count": 77,
   "metadata": {
    "scrolled": true
   },
   "outputs": [
    {
     "data": {
      "text/plain": [
       "0          (41.0, 46.0]\n",
       "1        (14.999, 20.0]\n",
       "2          (20.0, 22.0]\n",
       "3          (46.0, 53.0]\n",
       "4          (25.0, 29.0]\n",
       "5          (25.0, 29.0]\n",
       "6          (20.0, 22.0]\n",
       "7          (20.0, 22.0]\n",
       "8          (25.0, 29.0]\n",
       "9          (53.0, 95.0]\n",
       "10         (46.0, 53.0]\n",
       "11         (29.0, 33.0]\n",
       "12         (20.0, 22.0]\n",
       "13         (33.0, 37.0]\n",
       "14         (25.0, 29.0]\n",
       "15         (46.0, 53.0]\n",
       "16       (14.999, 20.0]\n",
       "17         (41.0, 46.0]\n",
       "18         (41.0, 46.0]\n",
       "19       (14.999, 20.0]\n",
       "20         (25.0, 29.0]\n",
       "21       (14.999, 20.0]\n",
       "22       (14.999, 20.0]\n",
       "23         (41.0, 46.0]\n",
       "24         (37.0, 41.0]\n",
       "25       (14.999, 20.0]\n",
       "26         (53.0, 95.0]\n",
       "27         (53.0, 95.0]\n",
       "28         (29.0, 33.0]\n",
       "29         (41.0, 46.0]\n",
       "              ...      \n",
       "49970    (14.999, 20.0]\n",
       "49971      (29.0, 33.0]\n",
       "49972      (37.0, 41.0]\n",
       "49973      (25.0, 29.0]\n",
       "49974      (29.0, 33.0]\n",
       "49975      (41.0, 46.0]\n",
       "49976      (20.0, 22.0]\n",
       "49977      (37.0, 41.0]\n",
       "49978      (22.0, 25.0]\n",
       "49979      (25.0, 29.0]\n",
       "49980      (25.0, 29.0]\n",
       "49981      (22.0, 25.0]\n",
       "49982      (33.0, 37.0]\n",
       "49983      (20.0, 22.0]\n",
       "49984      (25.0, 29.0]\n",
       "49985      (25.0, 29.0]\n",
       "49986    (14.999, 20.0]\n",
       "49987      (41.0, 46.0]\n",
       "49988      (25.0, 29.0]\n",
       "49989      (53.0, 95.0]\n",
       "49990      (41.0, 46.0]\n",
       "49991      (22.0, 25.0]\n",
       "49992      (37.0, 41.0]\n",
       "49993      (25.0, 29.0]\n",
       "49994    (14.999, 20.0]\n",
       "49995      (20.0, 22.0]\n",
       "49996      (37.0, 41.0]\n",
       "49997      (22.0, 25.0]\n",
       "49998      (37.0, 41.0]\n",
       "49999      (25.0, 29.0]\n",
       "Name: Age, Length: 50000, dtype: category\n",
       "Categories (10, interval[float64]): [(14.999, 20.0] < (20.0, 22.0] < (22.0, 25.0] < (25.0, 29.0] ... (37.0, 41.0] < (41.0, 46.0] < (46.0, 53.0] < (53.0, 95.0]]"
      ]
     },
     "execution_count": 77,
     "metadata": {},
     "output_type": "execute_result"
    }
   ],
   "source": [
    "pd.qcut(df['Age'], q=10)"
   ]
  },
  {
   "cell_type": "code",
   "execution_count": 78,
   "metadata": {},
   "outputs": [
    {
     "data": {
      "text/plain": [
       "count    50000.000000\n",
       "mean        34.684240\n",
       "std         13.076314\n",
       "min         15.000000\n",
       "25%         23.000000\n",
       "50%         33.000000\n",
       "75%         43.000000\n",
       "max         95.000000\n",
       "Name: Age, dtype: float64"
      ]
     },
     "execution_count": 78,
     "metadata": {},
     "output_type": "execute_result"
    }
   ],
   "source": [
    "df.Age.describe()"
   ]
  },
  {
   "cell_type": "code",
   "execution_count": 79,
   "metadata": {
    "collapsed": true
   },
   "outputs": [],
   "source": [
    "def cut_age(x):\n",
    "    if x < 18:\n",
    "        return 'age < 18'\n",
    "    elif x < 23:\n",
    "        return '18 <= age < 23'\n",
    "    elif x < 36:\n",
    "        return '23 <= age < 36'\n",
    "    elif x < 51:\n",
    "        return '36 <= age < 51'\n",
    "    elif x < 65:\n",
    "        return '51 <= age < 65'\n",
    "    else:\n",
    "        return '65 <= age'"
   ]
  },
  {
   "cell_type": "code",
   "execution_count": 80,
   "metadata": {
    "collapsed": true
   },
   "outputs": [],
   "source": [
    "df['cat_Age'] = df['Age'].map(cut_age)"
   ]
  },
  {
   "cell_type": "code",
   "execution_count": 81,
   "metadata": {},
   "outputs": [
    {
     "name": "stdout",
     "output_type": "stream",
     "text": [
      "(50000, 408)\n"
     ]
    }
   ],
   "source": [
    "categoricals = [\n",
    "    'ID_Shop', 'PROFESSION_CODE', 'CAT_MARITAL_STATUS', \n",
    "    'CAT_RESIDENCE_TYPE', 'AREA_CODE_RESIDENCIAL_PHONE', \n",
    "    'cat_Age'\n",
    "]\n",
    "df_cats = pd.get_dummies(df[categoricals].apply(lambda x: pd.Categorical(x)))\n",
    "print(df_cats.shape)"
   ]
  },
  {
   "cell_type": "code",
   "execution_count": 82,
   "metadata": {
    "collapsed": true
   },
   "outputs": [],
   "source": [
    "cat_train, cat_test = train_test_split(\n",
    "    df_cats, train_size=0.75, test_size=0.25, \n",
    "    random_state=432, stratify=df.TARGET_LABEL_BAD)"
   ]
  },
  {
   "cell_type": "code",
   "execution_count": 83,
   "metadata": {
    "collapsed": true
   },
   "outputs": [],
   "source": [
    "X_train = cat_train\n",
    "y_train = train.TARGET_LABEL_BAD\n",
    "\n",
    "X_test = cat_test\n",
    "y_test = test.TARGET_LABEL_BAD"
   ]
  },
  {
   "cell_type": "code",
   "execution_count": 84,
   "metadata": {
    "scrolled": true
   },
   "outputs": [
    {
     "name": "stdout",
     "output_type": "stream",
     "text": [
      "0.1017 0.7742 0.360346 0.1856 0.2450 0.644334 [0 1]\n",
      "0.362634    26\n",
      "0.049308    26\n",
      "0.141290    25\n",
      "0.282091    22\n",
      "0.059592    21\n",
      "0.339913    21\n",
      "0.243348    21\n",
      "0.476711    21\n",
      "0.318015    20\n",
      "0.165499    19\n",
      "0.410076    19\n",
      "0.310463    19\n",
      "0.093185    18\n",
      "0.076678    18\n",
      "0.055178    17\n",
      "0.072343    16\n",
      "0.011967    16\n",
      "0.060580    15\n",
      "0.414315    15\n",
      "0.285647    15\n",
      "0.139654    15\n",
      "0.067917    15\n",
      "0.112370    15\n",
      "0.444235    15\n",
      "0.059021    15\n",
      "0.551864    15\n",
      "0.126155    15\n",
      "0.337804    15\n",
      "0.576678    14\n",
      "0.111546    13\n",
      "            ..\n",
      "0.078311     1\n",
      "0.571149     1\n",
      "0.160358     1\n",
      "0.071477     1\n",
      "0.295494     1\n",
      "0.374629     1\n",
      "0.505579     1\n",
      "0.501129     1\n",
      "0.477705     1\n",
      "0.092004     1\n",
      "0.807839     1\n",
      "0.019624     1\n",
      "0.051304     1\n",
      "0.230258     1\n",
      "0.266720     1\n",
      "0.208098     1\n",
      "0.112027     1\n",
      "0.247276     1\n",
      "0.351239     1\n",
      "0.162362     1\n",
      "0.693336     1\n",
      "0.648446     1\n",
      "0.148531     1\n",
      "0.323258     1\n",
      "0.244937     1\n",
      "0.273503     1\n",
      "0.051449     1\n",
      "0.086832     1\n",
      "0.383663     1\n",
      "0.206586     1\n",
      "Length: 8329, dtype: int64\n"
     ]
    }
   ],
   "source": [
    "nb = BernoulliNB()\n",
    "nb = nb.fit(cat_train, y_train)\n",
    "y_pred = pd.Series(nb.predict(cat_test), index=y_test.index)\n",
    "y_pred_prob = pd.Series(nb.predict_proba(cat_test)[:, 1], index=y_test.index)\n",
    "score_classifier(y_test, y_pred, y_pred_prob)\n",
    "print(y_pred_prob.value_counts())"
   ]
  },
  {
   "cell_type": "markdown",
   "metadata": {},
   "source": [
    "# Homework\n",
    "Az órákon tanult módszerekkel nézz meg több feature halmazt az egyes osztályozókra:\n",
    "1. DT\n",
    "- Csökkentsd 1-3 változóval a legbővebb feature halmazt (hagyj el a feature importance alapján relevnás, közepesen releváns és irreleváns feature-öket.)\n",
    "- Optimalizáld a max_depth komplexitás paramétert, a kialakított legjobb feature halmazon. Legyen az optimalizálandó jóságkritérium a metrics.roc_auc_score.\n",
    "2. KNN\n",
    "- Válassz még egy folytonos változót, amelyet transzformálj a fenti módszerekkel és add hozzá a modellhez.\n",
    "- Ha ez a változó növelte a modell hatékonyságát a metrics.roc_auc_score tekintetében, akkor tartsd meg és optimalizáld szintén ezen a jóságkritériumon az n_neighbours paramétert. (1 <= n_neighbours <= 21, csak páratlan szám)\n",
    "- Nézd meg, hogy a manhatten távolsággal (p=1) jobb vagy rosszabb eredményt kapnál-e\n",
    "3. NB\n",
    "- Keress 1 további folytonos változót, amellyel növeled a metrics.roc_auc_score értéket. A modell-be helyezés előtt binneld a változót.\n",
    "- Keress 1 további kategórikus változót, amellyel növeled a metrics.roc_auc_score értéket.\n",
    "\n",
    "Az három osztályozó egyes jóságkritériumait foglald össze egy táblázatba. "
   ]
  },
  {
   "cell_type": "markdown",
   "metadata": {},
   "source": [
    "# Hint:\n",
    "- egy jobb score függvény egyszerűsíti az életünket"
   ]
  },
  {
   "cell_type": "code",
   "execution_count": 315,
   "metadata": {
    "collapsed": true
   },
   "outputs": [],
   "source": [
    "def score_classifier(y_test, y_pred, y_pred_proba, classifier=None):\n",
    "    cf_mat = metrics.confusion_matrix(y_test, y_pred)\n",
    "    tn = cf_mat[0,0]\n",
    "    tp = cf_mat[1,1]\n",
    "    fn = cf_mat[1,0]\n",
    "    fp = cf_mat[0,1]\n",
    "    scores = pd.Series({\n",
    "        'mean_prediction': y_pred.mean(), \n",
    "        'n_predicted_classes': y_pred.nunique(),\n",
    "        'confmat_tp': tp,\n",
    "        'confmat_tn': tn,\n",
    "        'confmat_fn': fn,\n",
    "        'confmat_fp': fp,        \n",
    "        'score_accuracy': metrics.accuracy_score(y_test, y_pred),\n",
    "        'score_precision': metrics.precision_score(y_test, y_pred),\n",
    "        'score_recall': metrics.recall_score(y_test, y_pred),\n",
    "        'f1_score': metrics.f1_score(y_test, y_pred),\n",
    "        'score_roc_auc': metrics.roc_auc_score(y_test, y_pred_proba),        \n",
    "    })\n",
    "    scores.name = classifier\n",
    "    return scores"
   ]
  },
  {
   "cell_type": "code",
   "execution_count": 316,
   "metadata": {
    "collapsed": true
   },
   "outputs": [],
   "source": [
    "nb = BernoulliNB()\n",
    "nb = nb.fit(cat_train, y_train)\n",
    "y_pred = pd.Series(nb.predict(cat_test), index=y_test.index)\n",
    "y_pred_prob = pd.Series(nb.predict_proba(cat_test)[:, 1], index=y_test.index)\n",
    "nb_scores = score_classifier(y_test, y_pred, y_pred_prob, 'naive_bayes')"
   ]
  },
  {
   "cell_type": "code",
   "execution_count": 317,
   "metadata": {
    "collapsed": true
   },
   "outputs": [],
   "source": [
    "dt = DecisionTreeClassifier(max_depth=10, \n",
    "                            class_weight=\"balanced\", \n",
    "                            criterion='entropy')\n",
    "dt = dt.fit(X_train, y_train)\n",
    "y_pred = pd.Series(dt.predict(X_test), index=y_test.index)\n",
    "y_pred_proba = pd.Series(dt.predict_proba(X_test)[:, 1], index=y_test.index)\n",
    "dt_scores = score_classifier(y_test, y_pred, y_pred_proba, 'decision_tree')"
   ]
  },
  {
   "cell_type": "markdown",
   "metadata": {},
   "source": [
    "# Hint\n",
    "a pd.concat segítségével a pd.Series-ek összeilleszthetők"
   ]
  },
  {
   "cell_type": "code",
   "execution_count": 318,
   "metadata": {},
   "outputs": [
    {
     "data": {
      "text/html": [
       "<div>\n",
       "<style>\n",
       "    .dataframe thead tr:only-child th {\n",
       "        text-align: right;\n",
       "    }\n",
       "\n",
       "    .dataframe thead th {\n",
       "        text-align: left;\n",
       "    }\n",
       "\n",
       "    .dataframe tbody tr th {\n",
       "        vertical-align: top;\n",
       "    }\n",
       "</style>\n",
       "<table border=\"1\" class=\"dataframe\">\n",
       "  <thead>\n",
       "    <tr style=\"text-align: right;\">\n",
       "      <th></th>\n",
       "      <th>naive_bayes</th>\n",
       "      <th>decision_tree</th>\n",
       "    </tr>\n",
       "  </thead>\n",
       "  <tbody>\n",
       "    <tr>\n",
       "      <th>confmat_fn</th>\n",
       "      <td>2010.000000</td>\n",
       "      <td>1060.000000</td>\n",
       "    </tr>\n",
       "    <tr>\n",
       "      <th>confmat_fp</th>\n",
       "      <td>813.000000</td>\n",
       "      <td>3947.000000</td>\n",
       "    </tr>\n",
       "    <tr>\n",
       "      <th>confmat_tn</th>\n",
       "      <td>9219.000000</td>\n",
       "      <td>6085.000000</td>\n",
       "    </tr>\n",
       "    <tr>\n",
       "      <th>confmat_tp</th>\n",
       "      <td>458.000000</td>\n",
       "      <td>1408.000000</td>\n",
       "    </tr>\n",
       "    <tr>\n",
       "      <th>f1_score</th>\n",
       "      <td>0.244985</td>\n",
       "      <td>0.359964</td>\n",
       "    </tr>\n",
       "    <tr>\n",
       "      <th>mean_prediction</th>\n",
       "      <td>0.101680</td>\n",
       "      <td>0.428400</td>\n",
       "    </tr>\n",
       "    <tr>\n",
       "      <th>n_predicted_classes</th>\n",
       "      <td>2.000000</td>\n",
       "      <td>2.000000</td>\n",
       "    </tr>\n",
       "    <tr>\n",
       "      <th>score_accuracy</th>\n",
       "      <td>0.774160</td>\n",
       "      <td>0.599440</td>\n",
       "    </tr>\n",
       "    <tr>\n",
       "      <th>score_precision</th>\n",
       "      <td>0.360346</td>\n",
       "      <td>0.262932</td>\n",
       "    </tr>\n",
       "    <tr>\n",
       "      <th>score_recall</th>\n",
       "      <td>0.185575</td>\n",
       "      <td>0.570502</td>\n",
       "    </tr>\n",
       "    <tr>\n",
       "      <th>score_roc_auc</th>\n",
       "      <td>0.644334</td>\n",
       "      <td>0.623754</td>\n",
       "    </tr>\n",
       "  </tbody>\n",
       "</table>\n",
       "</div>"
      ],
      "text/plain": [
       "                     naive_bayes  decision_tree\n",
       "confmat_fn           2010.000000    1060.000000\n",
       "confmat_fp            813.000000    3947.000000\n",
       "confmat_tn           9219.000000    6085.000000\n",
       "confmat_tp            458.000000    1408.000000\n",
       "f1_score                0.244985       0.359964\n",
       "mean_prediction         0.101680       0.428400\n",
       "n_predicted_classes     2.000000       2.000000\n",
       "score_accuracy          0.774160       0.599440\n",
       "score_precision         0.360346       0.262932\n",
       "score_recall            0.185575       0.570502\n",
       "score_roc_auc           0.644334       0.623754"
      ]
     },
     "execution_count": 318,
     "metadata": {},
     "output_type": "execute_result"
    }
   ],
   "source": [
    "pd.concat((nb_scores, dt_scores), axis=1)"
   ]
  },
  {
   "cell_type": "markdown",
   "metadata": {},
   "source": [
    "# Hint\n",
    "Paraméterket is megadhatunk a stringben, vagy akár a tanítást is egy külön függvénybe tehetjük"
   ]
  },
  {
   "cell_type": "code",
   "execution_count": 319,
   "metadata": {
    "collapsed": true
   },
   "outputs": [],
   "source": [
    "def fit_and_score(param):\n",
    "    dt = DecisionTreeClassifier(max_depth=param, \n",
    "                                class_weight=\"balanced\", \n",
    "                                criterion='entropy')\n",
    "    dt = dt.fit(X_train, y_train)\n",
    "    y_pred = pd.Series(dt.predict(X_test), index=y_test.index)\n",
    "    y_pred_proba = pd.Series(dt.predict_proba(X_test)[:, 1], index=y_test.index)\n",
    "    dt_scores = score_classifier(y_test, y_pred, y_pred_proba, 'decision_tree_max_depth={}'.format(param))\n",
    "    return dt_scores\n",
    "\n",
    "results = pd.concat((fit_and_score(5), fit_and_score(10)), axis=1)"
   ]
  },
  {
   "cell_type": "markdown",
   "metadata": {},
   "source": [
    "# Hint\n",
    "Lehet plottolni is :)"
   ]
  },
  {
   "cell_type": "code",
   "execution_count": 320,
   "metadata": {},
   "outputs": [
    {
     "data": {
      "text/html": [
       "<div>\n",
       "<style>\n",
       "    .dataframe thead tr:only-child th {\n",
       "        text-align: right;\n",
       "    }\n",
       "\n",
       "    .dataframe thead th {\n",
       "        text-align: left;\n",
       "    }\n",
       "\n",
       "    .dataframe tbody tr th {\n",
       "        vertical-align: top;\n",
       "    }\n",
       "</style>\n",
       "<table border=\"1\" class=\"dataframe\">\n",
       "  <thead>\n",
       "    <tr style=\"text-align: right;\">\n",
       "      <th></th>\n",
       "      <th>decision_tree_max_depth=5</th>\n",
       "      <th>decision_tree_max_depth=10</th>\n",
       "    </tr>\n",
       "  </thead>\n",
       "  <tbody>\n",
       "    <tr>\n",
       "      <th>confmat_fn</th>\n",
       "      <td>910.000000</td>\n",
       "      <td>1060.000000</td>\n",
       "    </tr>\n",
       "    <tr>\n",
       "      <th>confmat_fp</th>\n",
       "      <td>4438.000000</td>\n",
       "      <td>3948.000000</td>\n",
       "    </tr>\n",
       "    <tr>\n",
       "      <th>confmat_tn</th>\n",
       "      <td>5594.000000</td>\n",
       "      <td>6084.000000</td>\n",
       "    </tr>\n",
       "    <tr>\n",
       "      <th>confmat_tp</th>\n",
       "      <td>1558.000000</td>\n",
       "      <td>1408.000000</td>\n",
       "    </tr>\n",
       "    <tr>\n",
       "      <th>f1_score</th>\n",
       "      <td>0.368147</td>\n",
       "      <td>0.359918</td>\n",
       "    </tr>\n",
       "    <tr>\n",
       "      <th>mean_prediction</th>\n",
       "      <td>0.479680</td>\n",
       "      <td>0.428480</td>\n",
       "    </tr>\n",
       "    <tr>\n",
       "      <th>n_predicted_classes</th>\n",
       "      <td>2.000000</td>\n",
       "      <td>2.000000</td>\n",
       "    </tr>\n",
       "    <tr>\n",
       "      <th>score_accuracy</th>\n",
       "      <td>0.572160</td>\n",
       "      <td>0.599360</td>\n",
       "    </tr>\n",
       "    <tr>\n",
       "      <th>score_precision</th>\n",
       "      <td>0.259840</td>\n",
       "      <td>0.262883</td>\n",
       "    </tr>\n",
       "    <tr>\n",
       "      <th>score_recall</th>\n",
       "      <td>0.631280</td>\n",
       "      <td>0.570502</td>\n",
       "    </tr>\n",
       "    <tr>\n",
       "      <th>score_roc_auc</th>\n",
       "      <td>0.627670</td>\n",
       "      <td>0.623749</td>\n",
       "    </tr>\n",
       "  </tbody>\n",
       "</table>\n",
       "</div>"
      ],
      "text/plain": [
       "                     decision_tree_max_depth=5  decision_tree_max_depth=10\n",
       "confmat_fn                          910.000000                 1060.000000\n",
       "confmat_fp                         4438.000000                 3948.000000\n",
       "confmat_tn                         5594.000000                 6084.000000\n",
       "confmat_tp                         1558.000000                 1408.000000\n",
       "f1_score                              0.368147                    0.359918\n",
       "mean_prediction                       0.479680                    0.428480\n",
       "n_predicted_classes                   2.000000                    2.000000\n",
       "score_accuracy                        0.572160                    0.599360\n",
       "score_precision                       0.259840                    0.262883\n",
       "score_recall                          0.631280                    0.570502\n",
       "score_roc_auc                         0.627670                    0.623749"
      ]
     },
     "execution_count": 320,
     "metadata": {},
     "output_type": "execute_result"
    }
   ],
   "source": [
    "results"
   ]
  },
  {
   "cell_type": "code",
   "execution_count": 321,
   "metadata": {},
   "outputs": [
    {
     "data": {
      "text/plain": [
       "<matplotlib.axes._subplots.AxesSubplot at 0x7f5af5fcae10>"
      ]
     },
     "execution_count": 321,
     "metadata": {},
     "output_type": "execute_result"
    },
    {
     "data": {
      "image/png": "[encoded data removed]",
      "text/plain": [
       "<matplotlib.figure.Figure at 0x7f5af5e55320>"
      ]
     },
     "metadata": {},
     "output_type": "display_data"
    }
   ],
   "source": [
    "results = pd.concat((nb_scores, dt_scores), axis=1)\n",
    "results.loc[['confmat_tp', 'confmat_tn'], :].plot(kind='barh', grid=True, figsize=(12,4))"
   ]
  },
  {
   "cell_type": "markdown",
   "metadata": {
    "collapsed": true
   },
   "source": [
    "# 1. DT\n",
    "## 2. Featurehalmaz csokkentese"
   ]
  },
  {
   "cell_type": "code",
   "execution_count": 322,
   "metadata": {
    "collapsed": true
   },
   "outputs": [],
   "source": [
    "features = list(df.columns[1:])\n",
    "features.remove('TARGET_LABEL_BAD')\n",
    "features.remove('cat_Age')"
   ]
  },
  {
   "cell_type": "code",
   "execution_count": 323,
   "metadata": {
    "collapsed": true
   },
   "outputs": [],
   "source": [
    "\n",
    "dt = DecisionTreeClassifier(max_depth=13,class_weight='balanced',\n",
    "                            criterion='entropy')\n",
    "\n",
    "train,test = train_test_split(df, train_size = 0.75,test_size=0.25,\n",
    "                             random_state = 1181,\n",
    "                              stratify =df.TARGET_LABEL_BAD)\n",
    "X_test = test.loc[:,features]\n",
    "y_test = test.TARGET_LABEL_BAD\n",
    "X_train = train.loc[:,features]\n",
    "y_train = train.TARGET_LABEL_BAD\n",
    "\n",
    "alap = fit_and_score(13)\n",
    "alap2 = fit_and_score(5)"
   ]
  },
  {
   "cell_type": "code",
   "execution_count": 324,
   "metadata": {
    "collapsed": true
   },
   "outputs": [],
   "source": [
    "indices = X_train.columns\n",
    "dt = dt.fit(X_train, y_train)"
   ]
  },
  {
   "cell_type": "code",
   "execution_count": 325,
   "metadata": {
    "collapsed": true
   },
   "outputs": [],
   "source": [
    "fi = pd.Series(dt.feature_importances_, X_train.columns)"
   ]
  },
  {
   "cell_type": "code",
   "execution_count": 326,
   "metadata": {},
   "outputs": [
    {
     "data": {
      "text/plain": [
       "<matplotlib.axes._subplots.AxesSubplot at 0x7f5af9ef1978>"
      ]
     },
     "execution_count": 326,
     "metadata": {},
     "output_type": "execute_result"
    },
    {
     "data": {
      "image/png": "[encoded data removed]",
      "text/plain": [
       "<matplotlib.figure.Figure at 0x7f5af5e5b4e0>"
      ]
     },
     "metadata": {},
     "output_type": "display_data"
    }
   ],
   "source": [
    "fi.sort_values().plot(kind=\"barh\",grid=True,figsize=(12,4))"
   ]
  },
  {
   "cell_type": "code",
   "execution_count": 327,
   "metadata": {
    "collapsed": true
   },
   "outputs": [],
   "source": [
    "rele = 'Age'\n",
    "kevesberele = 'Sex'\n",
    "nemrele = 'BIN_FLAG_MOTHERS_NAME'\n",
    "\n",
    "f2 = features.copy()\n",
    "f3 = features.copy()\n",
    "f4 = features.copy()\n",
    "\n",
    "f2.remove(rele)\n",
    "f3.remove(kevesberele)\n",
    "f4.remove(nemrele)\n",
    "\n"
   ]
  },
  {
   "cell_type": "code",
   "execution_count": 328,
   "metadata": {
    "collapsed": true
   },
   "outputs": [],
   "source": [
    "f6 = features.copy()\n",
    "f6.remove(rele)\n",
    "f6.remove(kevesberele)"
   ]
  },
  {
   "cell_type": "code",
   "execution_count": 329,
   "metadata": {
    "collapsed": true
   },
   "outputs": [],
   "source": [
    "f5 = features.copy()\n",
    "f5.remove(rele)\n",
    "f5.remove(kevesberele)\n",
    "f5.remove(nemrele)\n"
   ]
  },
  {
   "cell_type": "code",
   "execution_count": 330,
   "metadata": {},
   "outputs": [
    {
     "data": {
      "text/plain": [
       "['ID_Shop',\n",
       " 'Sex',\n",
       " 'Age',\n",
       " 'AREA_CODE_RESIDENCIAL_PHONE',\n",
       " 'PAYMENT_DAY',\n",
       " 'SHOP_RANK',\n",
       " 'MONTHS_IN_RESIDENCE',\n",
       " 'MONTHS_IN_THE_JOB',\n",
       " 'PROFESSION_CODE',\n",
       " 'MATE_INCOME',\n",
       " 'PERSONAL_NET_INCOME',\n",
       " 'QUANT_ADDITIONAL_CARDS_IN_THE_APPLICATION',\n",
       " 'BIN_FLAG_FATHERS_NAME',\n",
       " 'BIN_FLAG_RESIDENCE_TOWN_WORKING_TOWN',\n",
       " 'BIN_FLAG_RESIDENCE_STATE_WORKING_STATE',\n",
       " 'BIN_FLAG_RESIDENCIAL_ADDRESS_POSTAL_ADDRESS',\n",
       " 'CAT_MARITAL_STATUS',\n",
       " 'CAT_RESIDENCE_TYPE',\n",
       " 'LOG_MONTHS_IN_RESIDENCE',\n",
       " 'LOG_MONTHS_IN_THE_JOB',\n",
       " 'LOG_CLIPPED_PERSONAL_NET_INCOME']"
      ]
     },
     "execution_count": 330,
     "metadata": {},
     "output_type": "execute_result"
    }
   ],
   "source": [
    "f4"
   ]
  },
  {
   "cell_type": "code",
   "execution_count": 331,
   "metadata": {
    "collapsed": true
   },
   "outputs": [],
   "source": [
    "def traintestsep(featurelist):\n",
    "    train,test = train_test_split(df, train_size = 0.75,test_size=0.25,\n",
    "                             random_state = 1181,\n",
    "                              stratify =df.TARGET_LABEL_BAD)\n",
    "    X_test = test.loc[:,featurelist]\n",
    "    y_test = test.TARGET_LABEL_BAD\n",
    "    X_train = train.loc[:,featurelist]\n",
    "    y_train = train.TARGET_LABEL_BAD\n",
    "    \n",
    "    return X_test,y_test,X_train,y_train"
   ]
  },
  {
   "cell_type": "code",
   "execution_count": 332,
   "metadata": {
    "collapsed": true
   },
   "outputs": [],
   "source": [
    "X_test, y_test,X_train,y_train = traintestsep(f2)\n",
    "results_1 = fit_and_score(13)\n",
    "X_test, y_test,X_train,y_train = traintestsep(f3)\n",
    "results_2 = fit_and_score(13)\n",
    "X_test, y_test,X_train,y_train = traintestsep(f4)\n",
    "results_3 = fit_and_score(13)\n",
    "X_test, y_test,X_train,y_train = traintestsep(f5)\n",
    "results_4 = fit_and_score(13)\n",
    "X_test, y_test,X_train,y_train = traintestsep(f6)\n",
    "results_5 = fit_and_score(13)\n",
    "\n",
    "results = pd.concat((alap,results_1,results_2,results_3,results_5, results_4),axis=1)"
   ]
  },
  {
   "cell_type": "code",
   "execution_count": 333,
   "metadata": {},
   "outputs": [
    {
     "data": {
      "text/html": [
       "<div>\n",
       "<style>\n",
       "    .dataframe thead tr:only-child th {\n",
       "        text-align: right;\n",
       "    }\n",
       "\n",
       "    .dataframe thead th {\n",
       "        text-align: left;\n",
       "    }\n",
       "\n",
       "    .dataframe tbody tr th {\n",
       "        vertical-align: top;\n",
       "    }\n",
       "</style>\n",
       "<table border=\"1\" class=\"dataframe\">\n",
       "  <thead>\n",
       "    <tr style=\"text-align: right;\">\n",
       "      <th></th>\n",
       "      <th>decision_tree_max_depth=13</th>\n",
       "      <th>decision_tree_max_depth=13</th>\n",
       "      <th>decision_tree_max_depth=13</th>\n",
       "      <th>decision_tree_max_depth=13</th>\n",
       "      <th>decision_tree_max_depth=13</th>\n",
       "      <th>decision_tree_max_depth=13</th>\n",
       "    </tr>\n",
       "  </thead>\n",
       "  <tbody>\n",
       "    <tr>\n",
       "      <th>confmat_fn</th>\n",
       "      <td>1041.000000</td>\n",
       "      <td>1043.000000</td>\n",
       "      <td>1092.000000</td>\n",
       "      <td>1090.000000</td>\n",
       "      <td>1042.000000</td>\n",
       "      <td>1044.000000</td>\n",
       "    </tr>\n",
       "    <tr>\n",
       "      <th>confmat_fp</th>\n",
       "      <td>4090.000000</td>\n",
       "      <td>4285.000000</td>\n",
       "      <td>3930.000000</td>\n",
       "      <td>3833.000000</td>\n",
       "      <td>4171.000000</td>\n",
       "      <td>4176.000000</td>\n",
       "    </tr>\n",
       "    <tr>\n",
       "      <th>confmat_tn</th>\n",
       "      <td>5941.000000</td>\n",
       "      <td>5746.000000</td>\n",
       "      <td>6101.000000</td>\n",
       "      <td>6198.000000</td>\n",
       "      <td>5860.000000</td>\n",
       "      <td>5855.000000</td>\n",
       "    </tr>\n",
       "    <tr>\n",
       "      <th>confmat_tp</th>\n",
       "      <td>1428.000000</td>\n",
       "      <td>1426.000000</td>\n",
       "      <td>1377.000000</td>\n",
       "      <td>1379.000000</td>\n",
       "      <td>1427.000000</td>\n",
       "      <td>1425.000000</td>\n",
       "    </tr>\n",
       "    <tr>\n",
       "      <th>f1_score</th>\n",
       "      <td>0.357581</td>\n",
       "      <td>0.348655</td>\n",
       "      <td>0.354167</td>\n",
       "      <td>0.359068</td>\n",
       "      <td>0.353787</td>\n",
       "      <td>0.353160</td>\n",
       "    </tr>\n",
       "    <tr>\n",
       "      <th>mean_prediction</th>\n",
       "      <td>0.441440</td>\n",
       "      <td>0.456880</td>\n",
       "      <td>0.424560</td>\n",
       "      <td>0.416960</td>\n",
       "      <td>0.447840</td>\n",
       "      <td>0.448080</td>\n",
       "    </tr>\n",
       "    <tr>\n",
       "      <th>n_predicted_classes</th>\n",
       "      <td>2.000000</td>\n",
       "      <td>2.000000</td>\n",
       "      <td>2.000000</td>\n",
       "      <td>2.000000</td>\n",
       "      <td>2.000000</td>\n",
       "      <td>2.000000</td>\n",
       "    </tr>\n",
       "    <tr>\n",
       "      <th>score_accuracy</th>\n",
       "      <td>0.589520</td>\n",
       "      <td>0.573760</td>\n",
       "      <td>0.598240</td>\n",
       "      <td>0.606160</td>\n",
       "      <td>0.582960</td>\n",
       "      <td>0.582400</td>\n",
       "    </tr>\n",
       "    <tr>\n",
       "      <th>score_precision</th>\n",
       "      <td>0.258789</td>\n",
       "      <td>0.249694</td>\n",
       "      <td>0.259469</td>\n",
       "      <td>0.264582</td>\n",
       "      <td>0.254912</td>\n",
       "      <td>0.254419</td>\n",
       "    </tr>\n",
       "    <tr>\n",
       "      <th>score_recall</th>\n",
       "      <td>0.578372</td>\n",
       "      <td>0.577562</td>\n",
       "      <td>0.557716</td>\n",
       "      <td>0.558526</td>\n",
       "      <td>0.577967</td>\n",
       "      <td>0.577157</td>\n",
       "    </tr>\n",
       "    <tr>\n",
       "      <th>score_roc_auc</th>\n",
       "      <td>0.601270</td>\n",
       "      <td>0.585953</td>\n",
       "      <td>0.593525</td>\n",
       "      <td>0.604367</td>\n",
       "      <td>0.593491</td>\n",
       "      <td>0.593026</td>\n",
       "    </tr>\n",
       "  </tbody>\n",
       "</table>\n",
       "</div>"
      ],
      "text/plain": [
       "                     decision_tree_max_depth=13  decision_tree_max_depth=13  \\\n",
       "confmat_fn                          1041.000000                 1043.000000   \n",
       "confmat_fp                          4090.000000                 4285.000000   \n",
       "confmat_tn                          5941.000000                 5746.000000   \n",
       "confmat_tp                          1428.000000                 1426.000000   \n",
       "f1_score                               0.357581                    0.348655   \n",
       "mean_prediction                        0.441440                    0.456880   \n",
       "n_predicted_classes                    2.000000                    2.000000   \n",
       "score_accuracy                         0.589520                    0.573760   \n",
       "score_precision                        0.258789                    0.249694   \n",
       "score_recall                           0.578372                    0.577562   \n",
       "score_roc_auc                          0.601270                    0.585953   \n",
       "\n",
       "                     decision_tree_max_depth=13  decision_tree_max_depth=13  \\\n",
       "confmat_fn                          1092.000000                 1090.000000   \n",
       "confmat_fp                          3930.000000                 3833.000000   \n",
       "confmat_tn                          6101.000000                 6198.000000   \n",
       "confmat_tp                          1377.000000                 1379.000000   \n",
       "f1_score                               0.354167                    0.359068   \n",
       "mean_prediction                        0.424560                    0.416960   \n",
       "n_predicted_classes                    2.000000                    2.000000   \n",
       "score_accuracy                         0.598240                    0.606160   \n",
       "score_precision                        0.259469                    0.264582   \n",
       "score_recall                           0.557716                    0.558526   \n",
       "score_roc_auc                          0.593525                    0.604367   \n",
       "\n",
       "                     decision_tree_max_depth=13  decision_tree_max_depth=13  \n",
       "confmat_fn                          1042.000000                 1044.000000  \n",
       "confmat_fp                          4171.000000                 4176.000000  \n",
       "confmat_tn                          5860.000000                 5855.000000  \n",
       "confmat_tp                          1427.000000                 1425.000000  \n",
       "f1_score                               0.353787                    0.353160  \n",
       "mean_prediction                        0.447840                    0.448080  \n",
       "n_predicted_classes                    2.000000                    2.000000  \n",
       "score_accuracy                         0.582960                    0.582400  \n",
       "score_precision                        0.254912                    0.254419  \n",
       "score_recall                           0.577967                    0.577157  \n",
       "score_roc_auc                          0.593491                    0.593026  "
      ]
     },
     "execution_count": 333,
     "metadata": {},
     "output_type": "execute_result"
    }
   ],
   "source": [
    "results"
   ]
  },
  {
   "cell_type": "markdown",
   "metadata": {},
   "source": [
    "a relevans elhagyasaval csokken a roc_auc ertekunk, a kevesbe relevanst elhagyva is csokken, de kisebb mertekben, a nem relevanst elhagyva jobb roc_auc erteket kaptam. az elso kettot egyutt elhagyva csokkent a metrika, mind a harmat elhagyva pedig megint nott"
   ]
  },
  {
   "cell_type": "markdown",
   "metadata": {},
   "source": [
    "## 3. - optimalis parameter megtalalasa\n",
    "jelen esetben a legjobb halmaz az az volt, amikor a legkevesbe relevanst hagytam csak el, most ezen dolgozva tovabb:"
   ]
  },
  {
   "cell_type": "code",
   "execution_count": 334,
   "metadata": {
    "collapsed": true
   },
   "outputs": [],
   "source": [
    "def parameterFinder():\n",
    "    best = 0\n",
    "    depth = 1\n",
    "    while(depth < 50):\n",
    "        current = fit_and_score(depth)\n",
    "        if(current['score_roc_auc'] > best):\n",
    "            best = current['score_roc_auc']\n",
    "            bestDepth = depth\n",
    "        depth = depth+1\n",
    "    print('A legjobb metrikaval rendelkezo fa melysege: {0}, melyhez tartozo roc_auc-ertek: {1}'.format(bestDepth,best))\n",
    "    "
   ]
  },
  {
   "cell_type": "code",
   "execution_count": 335,
   "metadata": {
    "collapsed": true
   },
   "outputs": [],
   "source": [
    "X_test, y_test,X_train,y_train = traintestsep(f4)"
   ]
  },
  {
   "cell_type": "code",
   "execution_count": 336,
   "metadata": {},
   "outputs": [
    {
     "name": "stdout",
     "output_type": "stream",
     "text": [
      "A legjobb metrikaval rendelkezo fa melysege: 5, melyhez tartozo roc_auc-ertek: 0.6492032455564342\n"
     ]
    }
   ],
   "source": [
    "parameterFinder()"
   ]
  },
  {
   "cell_type": "markdown",
   "metadata": {},
   "source": [
    "# 4. KNN\n",
    "## 5. Válassz még egy folytonos változót, amelyet transzformálj a fenti módszerekkel és add hozzá a modellhez"
   ]
  },
  {
   "cell_type": "code",
   "execution_count": 337,
   "metadata": {},
   "outputs": [
    {
     "data": {
      "text/plain": [
       "Index(['ID_Shop', 'Sex', 'Age', 'AREA_CODE_RESIDENCIAL_PHONE', 'PAYMENT_DAY',\n",
       "       'SHOP_RANK', 'MONTHS_IN_RESIDENCE', 'MONTHS_IN_THE_JOB',\n",
       "       'PROFESSION_CODE', 'MATE_INCOME', 'PERSONAL_NET_INCOME',\n",
       "       'QUANT_ADDITIONAL_CARDS_IN_THE_APPLICATION', 'TARGET_LABEL_BAD',\n",
       "       'BIN_FLAG_MOTHERS_NAME', 'BIN_FLAG_FATHERS_NAME',\n",
       "       'BIN_FLAG_RESIDENCE_TOWN_WORKING_TOWN',\n",
       "       'BIN_FLAG_RESIDENCE_STATE_WORKING_STATE',\n",
       "       'BIN_FLAG_RESIDENCIAL_ADDRESS_POSTAL_ADDRESS', 'CAT_MARITAL_STATUS',\n",
       "       'CAT_RESIDENCE_TYPE', 'LOG_MONTHS_IN_RESIDENCE',\n",
       "       'LOG_MONTHS_IN_THE_JOB', 'LOG_CLIPPED_PERSONAL_NET_INCOME', 'cat_Age'],\n",
       "      dtype='object')"
      ]
     },
     "execution_count": 337,
     "metadata": {},
     "output_type": "execute_result"
    }
   ],
   "source": [
    "df.columns[1:]"
   ]
  },
  {
   "cell_type": "code",
   "execution_count": 338,
   "metadata": {
    "collapsed": true
   },
   "outputs": [],
   "source": [
    "\n",
    "features = ['LOG_MONTHS_IN_RESIDENCE','LOG_MONTHS_IN_THE_JOB','LOG_CLIPPED_PERSONAL_NET_INCOME']\n",
    "? df.clip\n",
    "df['LOG_CLIPPED_MATE_NET_INCOME'] = np.log(df.PERSONAL_NET_INCOME.clip(1, 10000) + 1)\n"
   ]
  },
  {
   "cell_type": "code",
   "execution_count": 339,
   "metadata": {},
   "outputs": [
    {
     "data": {
      "text/plain": [
       "count    50000.000000\n",
       "mean         6.020186\n",
       "std          1.176353\n",
       "min          0.000000\n",
       "25%          5.602119\n",
       "50%          5.993961\n",
       "75%          6.609349\n",
       "max          9.210440\n",
       "Name: LOG_CLIPPED_PERSONAL_NET_INCOME, dtype: float64"
      ]
     },
     "execution_count": 339,
     "metadata": {},
     "output_type": "execute_result"
    }
   ],
   "source": [
    "df.LOG_CLIPPED_PERSONAL_NET_INCOME.describe()"
   ]
  },
  {
   "cell_type": "markdown",
   "metadata": {},
   "source": [
    "## 6. Ha ez a változó növelte a modell hatékonyságát a metrics.roc_auc_score tekintetében, akkor tartsd meg és optimalizáld szintén ezen a jóságkritériumon az n_neighbours paramétert. (1 <= n_neighbours <= 21, csak páratlan szám)"
   ]
  },
  {
   "cell_type": "code",
   "execution_count": 360,
   "metadata": {
    "collapsed": true
   },
   "outputs": [],
   "source": [
    "features = ['LOG_MONTHS_IN_RESIDENCE', 'LOG_MONTHS_IN_THE_JOB', 'LOG_CLIPPED_PERSONAL_NET_INCOME']\n",
    "features2 = ['LOG_MONTHS_IN_RESIDENCE','LOG_MONTHS_IN_THE_JOB']\n",
    "\n",
    "train, test = train_test_split(df, train_size=0.75, test_size=0.25, random_state=432, \n",
    "                               stratify=df.TARGET_LABEL_BAD)\n",
    "\n",
    "X_train = train.loc[:, features2]\n",
    "y_train = train.TARGET_LABEL_BAD\n",
    "\n",
    "X_test = test.loc[:, features2]\n",
    "y_test = test.TARGET_LABEL_BAD\n",
    "\n",
    "sc = StandardScaler()\n",
    "sc = sc.fit(X_train)\n",
    "\n",
    "y_train = train.TARGET_LABEL_BAD\n",
    "y_test = test.TARGET_LABEL_BAD\n",
    "\n",
    "\n",
    "scaled_X_train = pd.DataFrame(sc.transform(X_train), index=X_train.index)\n",
    "scaled_X_train.columns = features2\n",
    "\n",
    "scaled_X_test = pd.DataFrame(sc.transform(X_test), index=X_test.index)\n",
    "scaled_X_test.columns = features2\n",
    "\n",
    "def fit_and_score2(param1,param2):\n",
    "    knn = KNeighborsClassifier(n_neighbors=param1,p=param2)\n",
    "    dt = knn.fit(scaled_X_train, y_train)\n",
    "    y_pred = pd.Series(dt.predict(scaled_X_test), index=y_test.index)\n",
    "    y_pred_proba = pd.Series(dt.predict_proba(scaled_X_test)[:, 1], index=y_test.index)\n",
    "    dt_scores = score_classifier(y_test, y_pred, y_pred_proba, 'knn_neighNum={}'.format(param1))\n",
    "    return dt_scores\n",
    "\n",
    "def parameterFinder():\n",
    "    best = 0\n",
    "    neighbors = 1\n",
    "    while(neighbors < 76):\n",
    "        current = fit_and_score2(neighbors,2)\n",
    "        if(current['score_roc_auc'] > best):\n",
    "            best = current['score_roc_auc']\n",
    "            bestNeighbors = neighbors\n",
    "        neighbors = neighbors+2\n",
    "    print('A legjobb metrikaval rendelkezo knn algo szomszedszama: {0}, melyhez tartozo roc_auc-ertek: {1}'.format(bestNeighbors,best))"
   ]
  },
  {
   "cell_type": "code",
   "execution_count": 361,
   "metadata": {},
   "outputs": [
    {
     "data": {
      "text/plain": [
       "confmat_fn             2430.000000\n",
       "confmat_fp              141.000000\n",
       "confmat_tn             9891.000000\n",
       "confmat_tp               38.000000\n",
       "f1_score                  0.028712\n",
       "mean_prediction           0.014320\n",
       "n_predicted_classes       2.000000\n",
       "score_accuracy            0.794320\n",
       "score_precision           0.212291\n",
       "score_recall              0.015397\n",
       "score_roc_auc             0.534485\n",
       "Name: knn_neighNum=7, dtype: float64"
      ]
     },
     "execution_count": 361,
     "metadata": {},
     "output_type": "execute_result"
    }
   ],
   "source": [
    "fit_and_score2(7,2)"
   ]
  },
  {
   "cell_type": "code",
   "execution_count": 362,
   "metadata": {
    "collapsed": true
   },
   "outputs": [],
   "source": [
    "X_train = train.loc[:, features]\n",
    "y_train = train.TARGET_LABEL_BAD\n",
    "\n",
    "X_test = test.loc[:, features]\n",
    "y_test = test.TARGET_LABEL_BAD\n",
    "\n",
    "sc = StandardScaler()\n",
    "sc = sc.fit(X_train)\n",
    "\n",
    "y_train = train.TARGET_LABEL_BAD\n",
    "y_test = test.TARGET_LABEL_BAD\n",
    "\n",
    "\n",
    "scaled_X_train = pd.DataFrame(sc.transform(X_train), index=X_train.index)\n",
    "scaled_X_train.columns = features\n",
    "\n",
    "scaled_X_test = pd.DataFrame(sc.transform(X_test), index=X_test.index)\n",
    "scaled_X_test.columns = features"
   ]
  },
  {
   "cell_type": "code",
   "execution_count": 363,
   "metadata": {},
   "outputs": [
    {
     "data": {
      "text/plain": [
       "confmat_fn             2333.000000\n",
       "confmat_fp              483.000000\n",
       "confmat_tn             9549.000000\n",
       "confmat_tp              135.000000\n",
       "f1_score                  0.087492\n",
       "mean_prediction           0.049440\n",
       "n_predicted_classes       2.000000\n",
       "score_accuracy            0.774720\n",
       "score_precision           0.218447\n",
       "score_recall              0.054700\n",
       "score_roc_auc             0.542012\n",
       "Name: knn_neighNum=7, dtype: float64"
      ]
     },
     "execution_count": 363,
     "metadata": {},
     "output_type": "execute_result"
    }
   ],
   "source": [
    "fit_and_score2(7,2)"
   ]
  },
  {
   "cell_type": "markdown",
   "metadata": {},
   "source": [
    "latszik, hogy javitott valamennyit azt erteken, igy johet az optimalizalas 0.542012<->0.534485"
   ]
  },
  {
   "cell_type": "code",
   "execution_count": 364,
   "metadata": {},
   "outputs": [
    {
     "name": "stdout",
     "output_type": "stream",
     "text": [
      "A legjobb metrikaval rendelkezo knn algo szomszedszama: 63, melyhez tartozo roc_auc-ertek: 0.5710175978198775\n"
     ]
    }
   ],
   "source": [
    "parameterFinder()"
   ]
  },
  {
   "cell_type": "code",
   "execution_count": 365,
   "metadata": {
    "scrolled": true
   },
   "outputs": [
    {
     "name": "stdout",
     "output_type": "stream",
     "text": [
      "0.362634    26\n",
      "0.049308    26\n",
      "0.141290    25\n",
      "0.282091    22\n",
      "0.059592    21\n",
      "0.339913    21\n",
      "0.243348    21\n",
      "0.476711    21\n",
      "0.318015    20\n",
      "0.165499    19\n",
      "0.410076    19\n",
      "0.310463    19\n",
      "0.093185    18\n",
      "0.076678    18\n",
      "0.055178    17\n",
      "0.072343    16\n",
      "0.011967    16\n",
      "0.060580    15\n",
      "0.414315    15\n",
      "0.285647    15\n",
      "0.139654    15\n",
      "0.067917    15\n",
      "0.112370    15\n",
      "0.444235    15\n",
      "0.059021    15\n",
      "0.551864    15\n",
      "0.126155    15\n",
      "0.337804    15\n",
      "0.576678    14\n",
      "0.111546    13\n",
      "            ..\n",
      "0.078311     1\n",
      "0.571149     1\n",
      "0.160358     1\n",
      "0.071477     1\n",
      "0.295494     1\n",
      "0.374629     1\n",
      "0.505579     1\n",
      "0.501129     1\n",
      "0.477705     1\n",
      "0.092004     1\n",
      "0.807839     1\n",
      "0.019624     1\n",
      "0.051304     1\n",
      "0.230258     1\n",
      "0.266720     1\n",
      "0.208098     1\n",
      "0.112027     1\n",
      "0.247276     1\n",
      "0.351239     1\n",
      "0.162362     1\n",
      "0.693336     1\n",
      "0.648446     1\n",
      "0.148531     1\n",
      "0.323258     1\n",
      "0.244937     1\n",
      "0.273503     1\n",
      "0.051449     1\n",
      "0.086832     1\n",
      "0.383663     1\n",
      "0.206586     1\n",
      "Length: 8329, dtype: int64\n"
     ]
    }
   ],
   "source": [
    "print(y_pred_prob.value_counts())"
   ]
  },
  {
   "cell_type": "markdown",
   "metadata": {},
   "source": [
    "## 7. Nézd meg, hogy a manhatten távolsággal (p=1) jobb vagy rosszabb eredményt kapnál-e"
   ]
  },
  {
   "cell_type": "code",
   "execution_count": 368,
   "metadata": {
    "collapsed": true
   },
   "outputs": [],
   "source": [
    "def parameterFinder():\n",
    "    best = 0\n",
    "    neighbors = 1\n",
    "    while(neighbors < 50):\n",
    "        current = fit_and_score2(neighbors,1)\n",
    "        if(current['score_roc_auc'] > best):\n",
    "            best = current['score_roc_auc']\n",
    "            bestNeighbors = neighbors\n",
    "        neighbors = neighbors+2\n",
    "    print('A legjobb metrikaval rendelkezo knn algo szomszedszama: {0}, melyhez tartozo roc_auc-ertek: {1}'.format(bestNeighbors,best))"
   ]
  },
  {
   "cell_type": "code",
   "execution_count": 369,
   "metadata": {},
   "outputs": [
    {
     "name": "stdout",
     "output_type": "stream",
     "text": [
      "A legjobb metrikaval rendelkezo knn algo szomszedszama: 39, melyhez tartozo roc_auc-ertek: 0.5697741295924356\n"
     ]
    }
   ],
   "source": [
    "parameterFinder()"
   ]
  },
  {
   "cell_type": "markdown",
   "metadata": {},
   "source": [
    "nekem itt rosszabb jott ki a legoptimalisabbra, viszont most kevesebb szomszeddal operalt. 39 vs 63 es 0.569774 vs 0.571017"
   ]
  },
  {
   "cell_type": "markdown",
   "metadata": {},
   "source": [
    "# 8. NB\n",
    "## 9. Keress 1 további folytonos változót, amellyel növeled a metrics.roc_auc_score értéket. A modell-be helyezés előtt binneld a változót."
   ]
  },
  {
   "cell_type": "code",
   "execution_count": 370,
   "metadata": {},
   "outputs": [
    {
     "data": {
      "text/plain": [
       "confmat_fn             2428.000000\n",
       "confmat_fp               62.000000\n",
       "confmat_tn             9970.000000\n",
       "confmat_tp               40.000000\n",
       "f1_score                  0.031128\n",
       "mean_prediction           0.008160\n",
       "n_predicted_classes       2.000000\n",
       "score_accuracy            0.800800\n",
       "score_precision           0.392157\n",
       "score_recall              0.016207\n",
       "score_roc_auc             0.618139\n",
       "dtype: float64"
      ]
     },
     "execution_count": 370,
     "metadata": {},
     "output_type": "execute_result"
    }
   ],
   "source": [
    "categoricals = [\n",
    "    'ID_Shop', 'PROFESSION_CODE', \n",
    "    'AREA_CODE_RESIDENCIAL_PHONE',\n",
    "]\n",
    "df_cats = pd.get_dummies(df[categoricals].apply(lambda x: pd.Categorical(x)))\n",
    "\n",
    "cat_train, cat_test = train_test_split(df_cats, train_size=0.75, test_size=0.25, random_state=432, stratify=df.TARGET_LABEL_BAD)\n",
    "\n",
    "X_train = cat_train\n",
    "y_train = train.TARGET_LABEL_BAD\n",
    "\n",
    "X_test = cat_test\n",
    "y_test = test.TARGET_LABEL_BAD\n",
    "\n",
    "nb = BernoulliNB()\n",
    "nb = nb.fit(cat_train, y_train)\n",
    "y_pred = pd.Series(nb.predict(cat_test), index=y_test.index)\n",
    "y_pred_prob = pd.Series(nb.predict_proba(cat_test)[:, 1], index=y_test.index)\n",
    "score_classifier(y_test, y_pred, y_pred_prob)\n"
   ]
  },
  {
   "cell_type": "markdown",
   "metadata": {},
   "source": [
    "akkor ebbe beleteszem mondjuk a payment day-t binnelve"
   ]
  },
  {
   "cell_type": "code",
   "execution_count": 371,
   "metadata": {
    "collapsed": true
   },
   "outputs": [],
   "source": [
    "def cut_weekly(x):\n",
    "    if x < 7:\n",
    "        return 'first'\n",
    "    elif x < 2*7:\n",
    "        return 'second'\n",
    "    elif x < 3*7:\n",
    "        return 'third'\n",
    "    else:\n",
    "        return 'fourth'"
   ]
  },
  {
   "cell_type": "code",
   "execution_count": 373,
   "metadata": {},
   "outputs": [
    {
     "name": "stdout",
     "output_type": "stream",
     "text": [
      "(50000, 397)\n"
     ]
    },
    {
     "data": {
      "text/plain": [
       "confmat_fn             2400.000000\n",
       "confmat_fp              112.000000\n",
       "confmat_tn             9920.000000\n",
       "confmat_tp               68.000000\n",
       "f1_score                  0.051360\n",
       "mean_prediction           0.014400\n",
       "n_predicted_classes       2.000000\n",
       "score_accuracy            0.799040\n",
       "score_precision           0.377778\n",
       "score_recall              0.027553\n",
       "score_roc_auc             0.617564\n",
       "dtype: float64"
      ]
     },
     "execution_count": 373,
     "metadata": {},
     "output_type": "execute_result"
    }
   ],
   "source": [
    "df['cat_PAYMENT_DAY'] = df['PAYMENT_DAY'].map(cut_weekly)\n",
    "\n",
    "categoricals = [\n",
    "    'ID_Shop', 'PROFESSION_CODE', \n",
    "    'AREA_CODE_RESIDENCIAL_PHONE', \n",
    "    'cat_PAYMENT_DAY'\n",
    "]\n",
    "\n",
    "df_cats = pd.get_dummies(df[categoricals].apply(lambda x: pd.Categorical(x)))\n",
    "print(df_cats.shape)\n",
    "\n",
    "cat_train, cat_test = train_test_split(\n",
    "    df_cats, train_size=0.75, test_size=0.25, \n",
    "    random_state=432, stratify=df.TARGET_LABEL_BAD)\n",
    "\n",
    "X_train = cat_train\n",
    "y_train = train.TARGET_LABEL_BAD\n",
    "\n",
    "X_test = cat_test\n",
    "y_test = test.TARGET_LABEL_BAD\n",
    "\n",
    "nb = BernoulliNB()\n",
    "nb = nb.fit(cat_train, y_train)\n",
    "y_pred = pd.Series(nb.predict(cat_test), index=y_test.index)\n",
    "y_pred_prob = pd.Series(nb.predict_proba(cat_test)[:, 1], index=y_test.index)\n",
    "score_classifier(y_test, y_pred, y_pred_prob)"
   ]
  },
  {
   "cell_type": "code",
   "execution_count": 374,
   "metadata": {
    "scrolled": true
   },
   "outputs": [
    {
     "data": {
      "text/plain": [
       "0         (9.0, 12.0]\n",
       "1        (12.0, 20.0]\n",
       "2        (0.999, 9.0]\n",
       "3        (20.0, 28.0]\n",
       "4        (20.0, 28.0]\n",
       "5        (20.0, 28.0]\n",
       "6         (9.0, 12.0]\n",
       "7        (20.0, 28.0]\n",
       "8        (12.0, 20.0]\n",
       "9         (9.0, 12.0]\n",
       "10       (12.0, 20.0]\n",
       "11        (9.0, 12.0]\n",
       "12       (0.999, 9.0]\n",
       "13        (9.0, 12.0]\n",
       "14       (0.999, 9.0]\n",
       "15       (12.0, 20.0]\n",
       "16       (12.0, 20.0]\n",
       "17       (0.999, 9.0]\n",
       "18        (9.0, 12.0]\n",
       "19       (20.0, 28.0]\n",
       "20       (12.0, 20.0]\n",
       "21        (9.0, 12.0]\n",
       "22       (20.0, 28.0]\n",
       "23       (0.999, 9.0]\n",
       "24       (0.999, 9.0]\n",
       "25        (9.0, 12.0]\n",
       "26       (0.999, 9.0]\n",
       "27       (12.0, 20.0]\n",
       "28        (9.0, 12.0]\n",
       "29       (0.999, 9.0]\n",
       "             ...     \n",
       "49970     (9.0, 12.0]\n",
       "49971     (9.0, 12.0]\n",
       "49972    (20.0, 28.0]\n",
       "49973    (0.999, 9.0]\n",
       "49974    (12.0, 20.0]\n",
       "49975     (9.0, 12.0]\n",
       "49976     (9.0, 12.0]\n",
       "49977    (20.0, 28.0]\n",
       "49978    (12.0, 20.0]\n",
       "49979    (12.0, 20.0]\n",
       "49980    (12.0, 20.0]\n",
       "49981    (20.0, 28.0]\n",
       "49982    (0.999, 9.0]\n",
       "49983    (0.999, 9.0]\n",
       "49984     (9.0, 12.0]\n",
       "49985    (12.0, 20.0]\n",
       "49986     (9.0, 12.0]\n",
       "49987    (0.999, 9.0]\n",
       "49988    (12.0, 20.0]\n",
       "49989    (12.0, 20.0]\n",
       "49990    (20.0, 28.0]\n",
       "49991    (12.0, 20.0]\n",
       "49992    (12.0, 20.0]\n",
       "49993     (9.0, 12.0]\n",
       "49994    (12.0, 20.0]\n",
       "49995     (9.0, 12.0]\n",
       "49996    (0.999, 9.0]\n",
       "49997    (20.0, 28.0]\n",
       "49998    (20.0, 28.0]\n",
       "49999    (20.0, 28.0]\n",
       "Name: PAYMENT_DAY, Length: 50000, dtype: category\n",
       "Categories (4, interval[float64]): [(0.999, 9.0] < (9.0, 12.0] < (12.0, 20.0] < (20.0, 28.0]]"
      ]
     },
     "execution_count": 374,
     "metadata": {},
     "output_type": "execute_result"
    }
   ],
   "source": [
    "pd.qcut(df['PAYMENT_DAY'], q=4)"
   ]
  },
  {
   "cell_type": "code",
   "execution_count": 377,
   "metadata": {
    "collapsed": true
   },
   "outputs": [],
   "source": [
    "def cut_weekly(x):\n",
    "    if x <= 9:\n",
    "        return 'first'\n",
    "    elif x <= 12:\n",
    "        return 'second'\n",
    "    elif x <= 20:\n",
    "        return 'third'\n",
    "    else:\n",
    "        return 'fourth'"
   ]
  },
  {
   "cell_type": "code",
   "execution_count": 378,
   "metadata": {},
   "outputs": [
    {
     "name": "stdout",
     "output_type": "stream",
     "text": [
      "(50000, 397)\n"
     ]
    },
    {
     "data": {
      "text/plain": [
       "confmat_fn             2401.000000\n",
       "confmat_fp              108.000000\n",
       "confmat_tn             9924.000000\n",
       "confmat_tp               67.000000\n",
       "f1_score                  0.050700\n",
       "mean_prediction           0.014000\n",
       "n_predicted_classes       2.000000\n",
       "score_accuracy            0.799280\n",
       "score_precision           0.382857\n",
       "score_recall              0.027147\n",
       "score_roc_auc             0.620078\n",
       "dtype: float64"
      ]
     },
     "execution_count": 378,
     "metadata": {},
     "output_type": "execute_result"
    }
   ],
   "source": [
    "df['cat_PAYMENT_DAY'] = df['PAYMENT_DAY'].map(cut_weekly)\n",
    "\n",
    "categoricals = [\n",
    "    'ID_Shop', 'PROFESSION_CODE', \n",
    "    'AREA_CODE_RESIDENCIAL_PHONE', \n",
    "    'cat_PAYMENT_DAY'\n",
    "]\n",
    "\n",
    "df_cats = pd.get_dummies(df[categoricals].apply(lambda x: pd.Categorical(x)))\n",
    "print(df_cats.shape)\n",
    "\n",
    "cat_train, cat_test = train_test_split(\n",
    "    df_cats, train_size=0.75, test_size=0.25, \n",
    "    random_state=432, stratify=df.TARGET_LABEL_BAD)\n",
    "\n",
    "X_train = cat_train\n",
    "y_train = train.TARGET_LABEL_BAD\n",
    "\n",
    "X_test = cat_test\n",
    "y_test = test.TARGET_LABEL_BAD\n",
    "\n",
    "nb = BernoulliNB()\n",
    "nb = nb.fit(cat_train, y_train)\n",
    "y_pred = pd.Series(nb.predict(cat_test), index=y_test.index)\n",
    "y_pred_prob = pd.Series(nb.predict_proba(cat_test)[:, 1], index=y_test.index)\n",
    "score_classifier(y_test, y_pred, y_pred_prob)"
   ]
  },
  {
   "cell_type": "markdown",
   "metadata": {},
   "source": [
    "ha az egyenlo meretu binek szerint binnelem az ertekeket, akkor mar no a roc_auc"
   ]
  },
  {
   "cell_type": "markdown",
   "metadata": {},
   "source": [
    "## 10. Keress 1 további kategórikus változót, amellyel növeled a metrics.roc_auc_score értéket."
   ]
  },
  {
   "cell_type": "code",
   "execution_count": 379,
   "metadata": {},
   "outputs": [
    {
     "data": {
      "text/plain": [
       "count    50000.000000\n",
       "mean       153.288000\n",
       "std        136.498105\n",
       "min          0.000000\n",
       "25%         36.000000\n",
       "50%        120.000000\n",
       "75%        240.000000\n",
       "max       1188.000000\n",
       "Name: MONTHS_IN_RESIDENCE, dtype: float64"
      ]
     },
     "execution_count": 379,
     "metadata": {},
     "output_type": "execute_result"
    }
   ],
   "source": [
    "df.MONTHS_IN_RESIDENCE.describe()"
   ]
  },
  {
   "cell_type": "code",
   "execution_count": 381,
   "metadata": {},
   "outputs": [
    {
     "data": {
      "text/plain": [
       "0         (-0.001, 12.0]\n",
       "1         (144.0, 228.0]\n",
       "2           (12.0, 48.0]\n",
       "3         (144.0, 228.0]\n",
       "4         (-0.001, 12.0]\n",
       "5         (144.0, 228.0]\n",
       "6         (-0.001, 12.0]\n",
       "7           (12.0, 48.0]\n",
       "8         (-0.001, 12.0]\n",
       "9           (12.0, 48.0]\n",
       "10          (48.0, 84.0]\n",
       "11          (12.0, 48.0]\n",
       "12        (144.0, 228.0]\n",
       "13         (84.0, 144.0]\n",
       "14        (228.0, 300.0]\n",
       "15         (84.0, 144.0]\n",
       "16        (144.0, 228.0]\n",
       "17          (48.0, 84.0]\n",
       "18       (300.0, 1188.0]\n",
       "19          (12.0, 48.0]\n",
       "20        (228.0, 300.0]\n",
       "21        (-0.001, 12.0]\n",
       "22         (84.0, 144.0]\n",
       "23          (12.0, 48.0]\n",
       "24        (-0.001, 12.0]\n",
       "25        (-0.001, 12.0]\n",
       "26        (-0.001, 12.0]\n",
       "27         (84.0, 144.0]\n",
       "28       (300.0, 1188.0]\n",
       "29          (48.0, 84.0]\n",
       "              ...       \n",
       "49970     (228.0, 300.0]\n",
       "49971       (12.0, 48.0]\n",
       "49972       (12.0, 48.0]\n",
       "49973       (12.0, 48.0]\n",
       "49974     (144.0, 228.0]\n",
       "49975      (84.0, 144.0]\n",
       "49976      (84.0, 144.0]\n",
       "49977     (144.0, 228.0]\n",
       "49978     (228.0, 300.0]\n",
       "49979       (48.0, 84.0]\n",
       "49980       (12.0, 48.0]\n",
       "49981     (228.0, 300.0]\n",
       "49982     (144.0, 228.0]\n",
       "49983     (228.0, 300.0]\n",
       "49984      (84.0, 144.0]\n",
       "49985     (228.0, 300.0]\n",
       "49986       (12.0, 48.0]\n",
       "49987     (144.0, 228.0]\n",
       "49988    (300.0, 1188.0]\n",
       "49989     (144.0, 228.0]\n",
       "49990      (84.0, 144.0]\n",
       "49991     (144.0, 228.0]\n",
       "49992     (144.0, 228.0]\n",
       "49993       (12.0, 48.0]\n",
       "49994     (144.0, 228.0]\n",
       "49995      (84.0, 144.0]\n",
       "49996      (84.0, 144.0]\n",
       "49997     (228.0, 300.0]\n",
       "49998       (12.0, 48.0]\n",
       "49999       (12.0, 48.0]\n",
       "Name: MONTHS_IN_RESIDENCE, Length: 50000, dtype: category\n",
       "Categories (7, interval[float64]): [(-0.001, 12.0] < (12.0, 48.0] < (48.0, 84.0] < (84.0, 144.0] < (144.0, 228.0] < (228.0, 300.0] < (300.0, 1188.0]]"
      ]
     },
     "execution_count": 381,
     "metadata": {},
     "output_type": "execute_result"
    }
   ],
   "source": [
    "pd.qcut(df['MONTHS_IN_RESIDENCE'], q=7)"
   ]
  },
  {
   "cell_type": "code",
   "execution_count": 382,
   "metadata": {
    "collapsed": true
   },
   "outputs": [],
   "source": [
    "def cutResidence(x):\n",
    "    if x<=12:\n",
    "        return 'a'\n",
    "    elif x<=48:\n",
    "        return 'b'\n",
    "    elif x<=84:\n",
    "        return 'c'\n",
    "    elif x<=144:\n",
    "        return 'd'\n",
    "    elif x<=228:\n",
    "        return 'e'\n",
    "    elif x<=300:\n",
    "        return 'f'\n",
    "    else:\n",
    "        return 'g'"
   ]
  },
  {
   "cell_type": "code",
   "execution_count": 383,
   "metadata": {},
   "outputs": [
    {
     "name": "stdout",
     "output_type": "stream",
     "text": [
      "(50000, 404)\n"
     ]
    },
    {
     "data": {
      "text/plain": [
       "confmat_fn             2387.000000\n",
       "confmat_fp              116.000000\n",
       "confmat_tn             9916.000000\n",
       "confmat_tp               81.000000\n",
       "f1_score                  0.060788\n",
       "mean_prediction           0.015760\n",
       "n_predicted_classes       2.000000\n",
       "score_accuracy            0.799760\n",
       "score_precision           0.411168\n",
       "score_recall              0.032820\n",
       "score_roc_auc             0.624041\n",
       "dtype: float64"
      ]
     },
     "execution_count": 383,
     "metadata": {},
     "output_type": "execute_result"
    }
   ],
   "source": [
    "df['cat_MONTHS_IN_RESIDENCE'] = df['MONTHS_IN_RESIDENCE'].map(cutResidence)\n",
    "\n",
    "categoricals = [\n",
    "    'ID_Shop', 'PROFESSION_CODE', \n",
    "    'AREA_CODE_RESIDENCIAL_PHONE', \n",
    "    'cat_PAYMENT_DAY','cat_MONTHS_IN_RESIDENCE'\n",
    "]\n",
    "\n",
    "df_cats = pd.get_dummies(df[categoricals].apply(lambda x: pd.Categorical(x)))\n",
    "print(df_cats.shape)\n",
    "\n",
    "cat_train, cat_test = train_test_split(\n",
    "    df_cats, train_size=0.75, test_size=0.25, \n",
    "    random_state=432, stratify=df.TARGET_LABEL_BAD)\n",
    "\n",
    "X_train = cat_train\n",
    "y_train = train.TARGET_LABEL_BAD\n",
    "\n",
    "X_test = cat_test\n",
    "y_test = test.TARGET_LABEL_BAD\n",
    "\n",
    "nb = BernoulliNB()\n",
    "nb = nb.fit(cat_train, y_train)\n",
    "y_pred = pd.Series(nb.predict(cat_test), index=y_test.index)\n",
    "y_pred_prob = pd.Series(nb.predict_proba(cat_test)[:, 1], index=y_test.index)\n",
    "score_classifier(y_test, y_pred, y_pred_prob)"
   ]
  },
  {
   "cell_type": "markdown",
   "metadata": {},
   "source": [
    "nemikepp ez is novelte a roc_auc scoret"
   ]
  }
 ],
 "metadata": {
  "kernelspec": {
   "display_name": "Python 3",
   "language": "python",
   "name": "python3"
  },
  "language_info": {
   "codemirror_mode": {
    "name": "ipython",
    "version": 3
   },
   "file_extension": ".py",
   "mimetype": "text/x-python",
   "name": "python",
   "nbconvert_exporter": "python",
   "pygments_lexer": "ipython3",
   "version": "3.6.0"
  }
 },
 "nbformat": 4,
 "nbformat_minor": 2
}
